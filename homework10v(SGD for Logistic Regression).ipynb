{
  "nbformat": 4,
  "nbformat_minor": 0,
  "metadata": {
    "colab": {
      "provenance": [],
      "include_colab_link": true
    },
    "kernelspec": {
      "name": "python3",
      "display_name": "Python 3"
    },
    "language_info": {
      "name": "python"
    }
  },
  "cells": [
    {
      "cell_type": "markdown",
      "metadata": {
        "id": "view-in-github",
        "colab_type": "text"
      },
      "source": [
        "<a href=\"https://colab.research.google.com/github/milesba4/CS158-ML/blob/main/homework10v(SGD%20for%20Logistic%20Regression).ipynb\" target=\"_parent\"><img src=\"https://colab.research.google.com/assets/colab-badge.svg\" alt=\"Open In Colab\"/></a>"
      ]
    },
    {
      "cell_type": "markdown",
      "source": [
        "**Homework 10**"
      ],
      "metadata": {
        "id": "FZ0um49rzsKR"
      }
    },
    {
      "cell_type": "markdown",
      "source": [
        "We'll start with a few imports and our running library of functions."
      ],
      "metadata": {
        "id": "7pR7ZPp9zzik"
      }
    },
    {
      "cell_type": "code",
      "source": [
        "import pandas as pd\n",
        "import numpy as np\n",
        "import matplotlib.pyplot as plt\n",
        "import math\n",
        "\n",
        "\n",
        "def TrainTestSplit(X,y,p,seed=1):\n",
        "  '''Splits feature matrix X and target array y into train and test sets\n",
        "  p is the fraction going to train'''\n",
        "  np.random.seed(seed) #controls randomness\n",
        "  size=len(y) \n",
        "  train_size=int(p*size)\n",
        "  train_mask=np.zeros(size,dtype=bool)\n",
        "  train_indices=np.random.choice(size, train_size, replace=False)\n",
        "  train_mask[train_indices]=True \n",
        "  test_mask=~train_mask\n",
        "  X_train=X[train_mask]\n",
        "  X_test=X[test_mask]\n",
        "  y_train=y[train_mask]\n",
        "  y_test=y[test_mask]\n",
        "  return X_train,X_test,y_train,y_test\n",
        "\n",
        "def PolyFeatures(x,d):\n",
        "  X=np.zeros((len(x),d+1))\n",
        "  for i in range(d+1):\n",
        "    X[:,i]=x**i\n",
        "  return X\n",
        "\n",
        "def AddOnes(X):\n",
        "  return np.concatenate((X,np.ones((len(X),1))),axis=1)\n",
        "\n",
        "class Scaler:\n",
        "  def __init__(self,z):\n",
        "    self.min=np.min(z,axis=0)\n",
        "    self.max=np.max(z,axis=0)\n",
        "\n",
        "  def scale(self,x):\n",
        "    return (x-self.min)/(self.max-self.min)\n",
        "\n",
        "  def unscale(self,x):\n",
        "    return x*(self.max-self.min)+self.min\n",
        "\n",
        "def train(X,y,max_iter,lr):\n",
        "  '''MSE minimization by Gradient Descent'''\n",
        "  X=np.array(X) #Just in case X is a DataFrame\n",
        "  y=np.array(y) #Just in case y is a Series\n",
        "  n=len(X)\n",
        "  coeff=np.ones(X.shape[1]) #Initialize all coeff to be 1 (something to play with?)\n",
        "  for i in range(max_iter):\n",
        "    resid=X@coeff-y\n",
        "    gradient=((X.T)@resid)/n #Lot's of lin alg here. Try to unpack it!\n",
        "    coeff=coeff-lr*gradient #Gradient Descent step.\n",
        "  return coeff\n",
        "\n",
        "def SGD(X,y,epochs,batch_size,lr,alpha=0,beta=0):\n",
        "  '''Stochastic Gradient Descent With L1 and L2 regularization'''\n",
        "  #alpha=amount of L1 (Lasso) regularization\n",
        "  #beta=amount of L2 (Ridge) regularization\n",
        "  X=np.array(X) #Just in case X is a DataFrame\n",
        "  y=np.array(y) #Just in case y is a Series\n",
        "  n=len(X)\n",
        "  coeff=np.ones(X.shape[1]) #Initialize all coeff to be 1 (something to play with?)\n",
        "  indices=np.arange(len(X))\n",
        "  for i in range(epochs):\n",
        "    np.random.seed(i)\n",
        "    np.random.shuffle(indices)\n",
        "    X_shuffle=X[indices] \n",
        "    y_shuffle=y[indices] \n",
        "    num_batches=n//batch_size\n",
        "    for j in range(num_batches):\n",
        "      X_batch=X_shuffle[j*batch_size:(j+1)*batch_size]\n",
        "      y_batch=y_shuffle[j*batch_size:(j+1)*batch_size]\n",
        "      resid=X_batch@coeff-y_batch\n",
        "      gradient=lr*((X_batch.T)@resid)/len(X_batch)+alpha*(2*(coeff>0)-1)+beta*coeff\n",
        "      coeff=coeff-gradient #Gradient Descent step.\n",
        "    if n%batch_size!=0: #Check if there is a smaller leftover batch\n",
        "      X_batch=X_shuffle[num_batches*batch_size:] #last batch\n",
        "      y_batch=y_shuffle[num_batches*batch_size:] #last batch\n",
        "      resid=X_batch@coeff-y_batch\n",
        "      gradient=lr*((X_batch.T)@resid)/len(X_batch)+alpha*(2*(coeff>0)-1)+beta*coeff\n",
        "      coeff=coeff-gradient \n",
        "  return coeff\n",
        "\n",
        "def predict(X,coeff): #If X was scaled, then this will return scaled predictions\n",
        "  return X@coeff\n",
        "\n",
        "def MSE(pred,y):\n",
        "  return np.sum((pred-y)**2)/len(y)"
      ],
      "metadata": {
        "id": "o3bG8pKfzy4M"
      },
      "execution_count": null,
      "outputs": []
    },
    {
      "cell_type": "markdown",
      "source": [
        "Now we'll load the iris dataset as a pandas DataFrame."
      ],
      "metadata": {
        "id": "MuPrvVge0Gb5"
      }
    },
    {
      "cell_type": "code",
      "source": [
        "iris=(pd.read_csv('https://vincentarelbundock.github.io/Rdatasets/csv/datasets/iris.csv',index_col=0))"
      ],
      "metadata": {
        "id": "AibXEthd0F73"
      },
      "execution_count": null,
      "outputs": []
    },
    {
      "cell_type": "markdown",
      "source": [
        "In this assignment you'll create a general Logistic Regression funcation, and train it to predict which flowers are virginicas just from their petal length and width. Since this is a very simple dataset, we won't worry about doing a train/test split, scaling, etc. \n",
        "\n",
        "To begin, we select the `Petal.Length` and `Petal.Width` columns to be our features `X`, and for our target `y` we'll create a boolean array which is True if the species is virginica, and False otherwise. "
      ],
      "metadata": {
        "id": "tsojVh_CkD0g"
      }
    },
    {
      "cell_type": "code",
      "source": [
        "X=np.array(iris[['Petal.Length','Petal.Width']])\n",
        "X=AddOnes(X)\n",
        "y=np.array(iris['Species']=='virginica')"
      ],
      "metadata": {
        "id": "tcOb3sPWkDWm"
      },
      "execution_count": null,
      "outputs": []
    },
    {
      "cell_type": "markdown",
      "source": [
        "Now, define a function `sigmoid` by the following formula:\n",
        "$$\\sigma(t)=\\frac{1}{1+e^{-t}}$$\n",
        "\n",
        "Be sure to use np.exp, and not math.exp, so that all operations are vectorized."
      ],
      "metadata": {
        "id": "27vFXND6mQNt"
      }
    },
    {
      "cell_type": "code",
      "source": [
        "def sigmoid(t):\n",
        "  return 1/(1+(math.exp(1)**(-t)))"
      ],
      "metadata": {
        "id": "mOufNgpBmlPU"
      },
      "execution_count": null,
      "outputs": []
    },
    {
      "cell_type": "markdown",
      "source": [
        "What we are after is to find values of m, n, and b so that $$\\sigma(m*length+n*width+b)$$ is a good predictor of the probability of a flower being a virginica. \n",
        "\n",
        "In general, for a feature matrix `X` (with a column of ones), we want to find a vector of coefficients `coeff` so that $\\sigma$(X@coeff) is a good predictor of the target column.   \n",
        "\n",
        "Define a function `proba` that gives the value of this probability. "
      ],
      "metadata": {
        "id": "PUjbGgjFmpPD"
      }
    },
    {
      "cell_type": "code",
      "source": [
        "def proba(X,coeff): \n",
        "  return sigmoid(X@coeff)"
      ],
      "metadata": {
        "id": "FfckWF6InUkL"
      },
      "execution_count": null,
      "outputs": []
    },
    {
      "cell_type": "markdown",
      "source": [
        "Use a logistic model defined by m=-2, n=0.5, and b=10 to generate an array of probabilities for the matrix X of petal lengths and widths (don't forget to add a column of ones!). "
      ],
      "metadata": {
        "id": "YA99XHRM5WpY"
      }
    },
    {
      "cell_type": "code",
      "source": [
        "coeff=np.array([-2,.5,10])\n",
        "\n",
        "probs=proba(X,coeff)\n",
        "probs"
      ],
      "metadata": {
        "id": "IGPLB12q5aHo",
        "colab": {
          "base_uri": "https://localhost:8080/"
        },
        "outputId": "9781b990-8603-43d9-80d2-adffe58dec8e"
      },
      "execution_count": null,
      "outputs": [
        {
          "output_type": "execute_result",
          "data": {
            "text/plain": [
              "array([0.99932492, 0.99932492, 0.99944722, 0.99917558, 0.99932492,\n",
              "       0.99888746, 0.99935782, 0.99917558, 0.99932492, 0.99913334,\n",
              "       0.99917558, 0.99899323, 0.99929033, 0.9996104 , 0.99954738,\n",
              "       0.99925397, 0.9994998 , 0.99935782, 0.99883049, 0.99921575,\n",
              "       0.9987706 , 0.99925397, 0.99969655, 0.99894167, 0.99816706,\n",
              "       0.99899323, 0.99908895, 0.99917558, 0.99932492, 0.99899323,\n",
              "       0.99899323, 0.99925397, 0.99913334, 0.99932492, 0.99917558,\n",
              "       0.99954738, 0.99944722, 0.99929033, 0.99944722, 0.99917558,\n",
              "       0.99947417, 0.99947417, 0.99944722, 0.99917558, 0.9983412 ,\n",
              "       0.99935782, 0.99899323, 0.99932492, 0.99917558, 0.99932492,\n",
              "       0.78583498, 0.8519528 , 0.72111518, 0.93401099, 0.82491373,\n",
              "       0.83889105, 0.80218389, 0.98015969, 0.80999843, 0.94784644,\n",
              "       0.97068777, 0.91293423, 0.92414182, 0.78583498, 0.96923114,\n",
              "       0.86989153, 0.8519528 , 0.90887704, 0.8519528 , 0.93991335,\n",
              "       0.78583498, 0.93401099, 0.72111518, 0.76852478, 0.88594762,\n",
              "       0.86989153, 0.75026011, 0.70056714, 0.8519528 , 0.97068777,\n",
              "       0.95026349, 0.95689275, 0.94267582, 0.64565631, 0.8519528 ,\n",
              "       0.85814894, 0.79412963, 0.8641271 , 0.92056145, 0.93401099,\n",
              "       0.85814894, 0.81757448, 0.93086158, 0.98015969, 0.90465054,\n",
              "       0.90024951, 0.90465054, 0.88594762, 0.98954329, 0.92056145,\n",
              "       0.3208213 , 0.6791787 , 0.3208213 , 0.42555748, 0.37754067,\n",
              "       0.10433122, 0.8641271 , 0.15446527, 0.33181223, 0.27888482,\n",
              "       0.68997448, 0.58661758, 0.5124974 , 0.73105858, 0.73105858,\n",
              "       0.63413559, 0.47502081, 0.09112296, 0.06598901, 0.6791787 ,\n",
              "       0.4378235 , 0.76852478, 0.0831727 , 0.75026011, 0.41338242,\n",
              "       0.24973989, 0.78583498, 0.75026011, 0.46257015, 0.31002552,\n",
              "       0.22270014, 0.14185106, 0.47502081, 0.63413559, 0.37754067,\n",
              "       0.2592251 , 0.5       , 0.47502081, 0.78583498, 0.5621765 ,\n",
              "       0.5       , 0.72111518, 0.6791787 , 0.34298954, 0.46257015,\n",
              "       0.6791787 , 0.72111518, 0.64565631, 0.58661758, 0.66818777])"
            ]
          },
          "metadata": {},
          "execution_count": 24
        }
      ]
    },
    {
      "cell_type": "markdown",
      "source": [
        "Write a function `predict` that takes an array of probabilities and returns True for each one that is above 0.5, and False otherwise. Then, use this function to make predictions on weather or not each flower is a virginica, based on the logistic model with coefficients m=-2, n=0.5, and b=10."
      ],
      "metadata": {
        "id": "dI72dhoE5yCx"
      }
    },
    {
      "cell_type": "code",
      "source": [
        "def predict(probs):\n",
        "  #takes an array of probabilities and returns True for each one that is above 0.5, and False otherwise\n",
        "  \n",
        "  return (probs >.5)\n",
        "\n",
        "predictions=predict(probs)\n",
        "predictions"
      ],
      "metadata": {
        "id": "ZCQCra4X58HJ",
        "colab": {
          "base_uri": "https://localhost:8080/"
        },
        "outputId": "eefe067f-414c-4c2a-a3f4-20db738c2698"
      },
      "execution_count": null,
      "outputs": [
        {
          "output_type": "execute_result",
          "data": {
            "text/plain": [
              "array([ True,  True,  True,  True,  True,  True,  True,  True,  True,\n",
              "        True,  True,  True,  True,  True,  True,  True,  True,  True,\n",
              "        True,  True,  True,  True,  True,  True,  True,  True,  True,\n",
              "        True,  True,  True,  True,  True,  True,  True,  True,  True,\n",
              "        True,  True,  True,  True,  True,  True,  True,  True,  True,\n",
              "        True,  True,  True,  True,  True,  True,  True,  True,  True,\n",
              "        True,  True,  True,  True,  True,  True,  True,  True,  True,\n",
              "        True,  True,  True,  True,  True,  True,  True,  True,  True,\n",
              "        True,  True,  True,  True,  True,  True,  True,  True,  True,\n",
              "        True,  True,  True,  True,  True,  True,  True,  True,  True,\n",
              "        True,  True,  True,  True,  True,  True,  True,  True,  True,\n",
              "        True, False,  True, False, False, False, False,  True, False,\n",
              "       False, False,  True,  True,  True,  True,  True,  True, False,\n",
              "       False, False,  True, False,  True, False,  True, False, False,\n",
              "        True,  True, False, False, False, False, False,  True, False,\n",
              "       False, False, False,  True,  True, False,  True,  True, False,\n",
              "       False,  True,  True,  True,  True,  True])"
            ]
          },
          "metadata": {},
          "execution_count": 30
        }
      ]
    },
    {
      "cell_type": "markdown",
      "source": [
        "Write a function `accuracy` that takes an array of predicted True/False values and an array of target True/False values, and determines the accuracy of the predictions. Then, use this to determine the accuracy of the logistic model with coefficients m=-2, n=0.5, and b=10."
      ],
      "metadata": {
        "id": "7x-eNtYjoi46"
      }
    },
    {
      "cell_type": "code",
      "source": [
        "def accuracy(pred,y):\n",
        "  #takes an array or predicted True/False values and an array of target True/False values, and determines the accuracy of the predictions.\n",
        "  matching_arr=(pred==y)\n",
        "  accuracy=sum(matching_arr)/len(matching_arr)\n",
        "  return accuracy\n",
        "\n",
        "acc=accuracy(predictions,y)\n",
        "acc"
      ],
      "metadata": {
        "id": "jb0YlNK56pYi",
        "colab": {
          "base_uri": "https://localhost:8080/"
        },
        "outputId": "edfc82c3-c212-4165-e882-343dea7b16d2"
      },
      "execution_count": null,
      "outputs": [
        {
          "output_type": "execute_result",
          "data": {
            "text/plain": [
              "0.15333333333333332"
            ]
          },
          "metadata": {},
          "execution_count": 26
        }
      ]
    },
    {
      "cell_type": "markdown",
      "source": [
        "The function we will optimize is not accuracy, but rather the log of the probability that our guesses for the target column are correct, if we guess according to the probabilities given by our model (log-loss). To compute this, define a function that calculates the *mean* log loss. Then, apply this function to the logistic model with coefficients m=-2, n=0.5, and b=10. As discussed in class, the log loss is given by:\n",
        "\n",
        "$$\\log \\left(\\prod \\limits _{target_i=T} p_i \\cdot \\prod \\limits _{target_i=F} (1-p_i)\\right)\\\\\n",
        "=\\sum \\limits _{target_i=T} \\log(p_i) + \\sum \\limits _{target_i=F} \\log(1-p_i)\\\\\n",
        "=\\sum \\limits _i  target_i \\log(p_i) +  (1-target_i)\\log(1-p_i)$$\n",
        "\n",
        "As in the case of RSS vs MSE, the mean log loss is obtained from the log loss by dividing by the number of rows in our dataset, to account for datasets of varying size. "
      ],
      "metadata": {
        "id": "tM57Y1dYpY3_"
      }
    },
    {
      "cell_type": "code",
      "source": [
        "def LogLoss(probs,y):\n",
        "  return sum(y*np.log(probs)+(1-y)*np.log(1-probs))\n",
        "\n",
        "LL=LogLoss(probs,y)/len(y)\n",
        "LL"
      ],
      "metadata": {
        "id": "NePpvEVBrzBE",
        "colab": {
          "base_uri": "https://localhost:8080/"
        },
        "outputId": "55690be6-f683-4a87-dace-f8db63de21e5"
      },
      "execution_count": null,
      "outputs": [
        {
          "output_type": "execute_result",
          "data": {
            "text/plain": [
              "-3.4500448158079577"
            ]
          },
          "metadata": {},
          "execution_count": 36
        }
      ]
    },
    {
      "cell_type": "markdown",
      "source": [
        "The above quantity is a number between $-\\infty$ and $0$, with numbers closer to 0 being better. Rather than maximize this, we will minimze its negation (i.e. we'll put a negative sign in front and use gradient descent). \n",
        "\n",
        "For example, in the case of our iris model, the gradient of the mean log loss is given by the three partial derivatives:\n",
        "$$\\frac{\\partial ll}{\\partial m}= \\frac{1}{len(y)}\\sum \\limits _i (p_i-target_i)length_i$$\n",
        "$$\\frac{\\partial ll}{\\partial n}= \\frac{1}{len(y)}\\sum \\limits _i (p_i-target_i)width_i$$\n",
        "$$\\frac{\\partial ll}{\\partial b}= \\frac{1}{len(y)}\\sum \\limits _i (p_i-target_i)$$\n",
        "\n",
        "Again, we will also divide these by the number of rows in our dataset, to account for datasets of varying size. "
      ],
      "metadata": {
        "id": "BRSN9ovRr2LI"
      }
    },
    {
      "cell_type": "markdown",
      "source": [
        "In general, if you have a feature matrix X and a logistic model giving probabilities `proba` for a target `y` then the gradient vector is given by `X.T@(proba-y)/len(X)`. \n",
        "\n",
        "Use this to modify the SGD function defined in the previous homework assignment to find an optimal Logistic regression model. As before, we will use stochastic (batch) gradient descent, with possible L1 and L2 regularization."
      ],
      "metadata": {
        "id": "19Czn6FbwuR3"
      }
    },
    {
      "cell_type": "code",
      "source": [
        "def LogisticSGD(X,y,epochs,batch_size,lr,alpha=0,beta=0):\n",
        "  '''Stochastic Gradient Descent for Logistic Regression'''\n",
        "  #alpha=amount of L1 (Lasso) regularization\n",
        "  #beta=amount of L2 (Ridge) regularization\n",
        "  X=np.array(X) #Just in case X is a DataFrame\n",
        "  y=np.array(y) #Just in case y is a Series\n",
        "  n=len(X)\n",
        "  coeff=np.ones(X.shape[1]) #Initialize all coeff to be 1 (something to play with?)\n",
        "  indices=np.arange(len(X))\n",
        "  for i in range(epochs):\n",
        "    np.random.seed(i)\n",
        "    np.random.shuffle(indices)\n",
        "    X_shuffle=X[indices] \n",
        "    y_shuffle=y[indices] \n",
        "    num_batches=n//batch_size\n",
        "    for j in range(num_batches):\n",
        "      X_batch=X_shuffle[j*batch_size:(j+1)*batch_size]\n",
        "      y_batch=y_shuffle[j*batch_size:(j+1)*batch_size]\n",
        "      resid=X_batch@coeff-y_batch\n",
        "      gradient=(lr*(X_batch.T@(proba(X_batch,coeff)-y_batch))/len(X_batch))+alpha*(2*(coeff>0)-1)+beta*coeff\n",
        "      coeff=coeff-gradient #Gradient Descent step.\n",
        "    if n%batch_size!=0: #Check if there is a smaller leftover batch\n",
        "      X_batch=X_shuffle[num_batches*batch_size:] #last batch\n",
        "      y_batch=y_shuffle[num_batches*batch_size:] #last batch\n",
        "      resid=X_batch@coeff-y_batch\n",
        "      gradient=(lr*(X_batch.T@(proba(X_batch,coeff)-y_batch))/len(X_batch))+alpha*(2*(coeff>0)-1)+beta*coeff\n",
        "      coeff=coeff-gradient \n",
        "  return coeff"
      ],
      "metadata": {
        "id": "jLJK55eU0o0Z"
      },
      "execution_count": null,
      "outputs": []
    },
    {
      "cell_type": "markdown",
      "source": [
        "Use this function to compute coefficients for a logistic model for the feature matrix X (with a columns of ones added) and target y. Run your code for 2000 epochs, with batch sizes of 50, and learning rate 0.01. For this assignment, we won't worry about regularization, so leave alpha and beta at 0. "
      ],
      "metadata": {
        "id": "_yp0AqJOm7PH"
      }
    },
    {
      "cell_type": "markdown",
      "source": [],
      "metadata": {
        "id": "nD60Gduwwkm1"
      }
    },
    {
      "cell_type": "code",
      "source": [
        "newcoeff=LogisticSGD(X,y,2000,50,.01,0,0)\n",
        "newcoeff"
      ],
      "metadata": {
        "id": "o_0bEXPD9uyd",
        "colab": {
          "base_uri": "https://localhost:8080/"
        },
        "outputId": "decc74cb-b89c-4e3b-c597-283d7b9e2548"
      },
      "execution_count": null,
      "outputs": [
        {
          "output_type": "execute_result",
          "data": {
            "text/plain": [
              "array([-0.17670254,  2.73978481, -3.55043789])"
            ]
          },
          "metadata": {},
          "execution_count": 32
        }
      ]
    },
    {
      "cell_type": "markdown",
      "source": [
        "Calculate the accuracy of the logistic model you found with these coefficients."
      ],
      "metadata": {
        "id": "U1SCskJXnLAS"
      }
    },
    {
      "cell_type": "code",
      "source": [
        "new_probs=proba(X,newcoeff)\n",
        "new_predictions=predict(new_probs)\n",
        "newaccuracy=accuracy(new_predictions,y)\n",
        "newaccuracy"
      ],
      "metadata": {
        "id": "l_QH7DV3t4WF",
        "colab": {
          "base_uri": "https://localhost:8080/"
        },
        "outputId": "e69f3312-83a7-44cf-cfa2-5d43f8018f89"
      },
      "execution_count": null,
      "outputs": [
        {
          "output_type": "execute_result",
          "data": {
            "text/plain": [
              "0.9466666666666667"
            ]
          },
          "metadata": {},
          "execution_count": 37
        }
      ]
    },
    {
      "cell_type": "markdown",
      "source": [
        "To see the \"decision boundary\" between where your model will predict virginica (in blue) vs the other species, run the following code block:"
      ],
      "metadata": {
        "id": "d-_Vobu0HzK_"
      }
    },
    {
      "cell_type": "code",
      "source": [
        "def func(x):\n",
        "  m=-newcoeff[0]/newcoeff[1]\n",
        "  b=-newcoeff[2]/newcoeff[1]\n",
        "  return m*x+b\n",
        "\n",
        "cdict={'versicolor':'r','setosa':'g','virginica':'b'}\n",
        "colors=iris.apply(lambda x:cdict[x.Species],axis=1)\n",
        "\n",
        "plt.scatter(X[:,0],X[:,1],c=colors)\n",
        "plt.plot(X[:,0],func(X[:,0]))"
      ],
      "metadata": {
        "id": "JYnGnyk_zEIq",
        "colab": {
          "base_uri": "https://localhost:8080/",
          "height": 283
        },
        "outputId": "ab4eb54c-019b-4cda-d3e5-e788a223e6b7"
      },
      "execution_count": null,
      "outputs": [
        {
          "output_type": "execute_result",
          "data": {
            "text/plain": [
              "[<matplotlib.lines.Line2D at 0x7f871a8ae100>]"
            ]
          },
          "metadata": {},
          "execution_count": 35
        },
        {
          "output_type": "display_data",
          "data": {
            "text/plain": [
              "<Figure size 432x288 with 1 Axes>"
            ],
            "image/png": "[encoded data removed]"
          },
          "metadata": {
            "needs_background": "light"
          }
        }
      ]
    }
  ]
}