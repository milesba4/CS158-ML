{
  "nbformat": 4,
  "nbformat_minor": 0,
  "metadata": {
    "colab": {
      "provenance": [],
      "include_colab_link": true
    },
    "kernelspec": {
      "name": "python3",
      "display_name": "Python 3"
    },
    "language_info": {
      "name": "python"
    }
  },
  "cells": [
    {
      "cell_type": "markdown",
      "metadata": {
        "id": "view-in-github",
        "colab_type": "text"
      },
      "source": [
        "<a href=\"https://colab.research.google.com/github/milesba4/CS158-ML/blob/main/homework11%20(Softmax%20SGD).ipynb\" target=\"_parent\"><img src=\"https://colab.research.google.com/assets/colab-badge.svg\" alt=\"Open In Colab\"/></a>"
      ]
    },
    {
      "cell_type": "markdown",
      "source": [
        "**Homework 11**"
      ],
      "metadata": {
        "id": "FZ0um49rzsKR"
      }
    },
    {
      "cell_type": "markdown",
      "source": [
        "We'll start with a few imports and our running library of functions."
      ],
      "metadata": {
        "id": "7pR7ZPp9zzik"
      }
    },
    {
      "cell_type": "code",
      "source": [
        "import pandas as pd\n",
        "import math\n",
        "import numpy as np\n",
        "# import matplotlib.pyplot as plt\n",
        "from sklearn.datasets import load_digits\n",
        "\n",
        "\n",
        "def TrainTestSplit(X,y,p,seed=1):\n",
        "  '''Splits feature matrix X and target array y into train and test sets\n",
        "  p is the fraction going to train'''\n",
        "  np.random.seed(seed) #controls randomness\n",
        "  size=len(y) \n",
        "  train_size=int(p*size)\n",
        "  train_mask=np.zeros(size,dtype=bool)\n",
        "  train_indices=np.random.choice(size, train_size, replace=False)\n",
        "  train_mask[train_indices]=True \n",
        "  test_mask=~train_mask\n",
        "  X_train=X[train_mask]\n",
        "  X_test=X[test_mask]\n",
        "  y_train=y[train_mask]\n",
        "  y_test=y[test_mask]\n",
        "  return X_train,X_test,y_train,y_test\n",
        "\n",
        "def PolyFeatures(x,d):\n",
        "  X=np.zeros((len(x),d+1))\n",
        "  for i in range(d+1):\n",
        "    X[:,i]=x**i\n",
        "  return X\n",
        "\n",
        "def AddOnes(X):\n",
        "  return np.concatenate((X,np.ones((len(X),1))),axis=1)\n",
        "\n",
        "class Scaler:\n",
        "  def __init__(self,z):\n",
        "    self.min=np.min(z,axis=0)\n",
        "    self.max=np.max(z,axis=0)\n",
        "\n",
        "  def scale(self,x):\n",
        "    \n",
        "    return (x-self.min)/(self.max-self.min+0.000001)\n",
        "\n",
        "  def unscale(self,x):\n",
        "    return x*(self.max-self.min+0.000001)+self.min\n",
        "\n",
        "\n",
        "def LinearSGD(X,y,epochs,batch_size,lr,alpha=0,beta=0):\n",
        "  '''Stochastic Gradient Descent With L1 and L2 regularization'''\n",
        "  #alpha=amount of L1 (Lasso) regularization\n",
        "  #beta=amount of L2 (Ridge) regularization\n",
        "  X=np.array(X) #Just in case X is a DataFrame\n",
        "  y=np.array(y) #Just in case y is a Series\n",
        "  n=len(X)\n",
        "  coeff=np.ones(X.shape[1]) #Initialize all coeff to be 1 (something to play with?)\n",
        "  indices=np.arange(len(X))\n",
        "  for i in range(epochs):\n",
        "    np.random.seed(i)\n",
        "    np.random.shuffle(indices)\n",
        "    X_shuffle=X[indices] \n",
        "    y_shuffle=y[indices] \n",
        "    num_batches=n//batch_size\n",
        "    for j in range(num_batches):\n",
        "      X_batch=X_shuffle[j*batch_size:(j+1)*batch_size]\n",
        "      y_batch=y_shuffle[j*batch_size:(j+1)*batch_size]\n",
        "      resid=X_batch@coeff-y_batch\n",
        "      gradient=lr*((X_batch.T)@resid)/len(X_batch)+alpha*(2*(coeff>0)-1)+beta*coeff\n",
        "      coeff=coeff-gradient #Gradient Descent step.\n",
        "    if n%batch_size!=0: #Check if there is a smaller leftover batch\n",
        "      X_batch=X_shuffle[num_batches*batch_size:] #last batch\n",
        "      y_batch=y_shuffle[num_batches*batch_size:] #last batch\n",
        "      resid=X_batch@coeff-y_batch\n",
        "      gradient=lr*((X_batch.T)@resid)/len(X_batch)+alpha*(2*(coeff>0)-1)+beta*coeff\n",
        "      coeff=coeff-gradient \n",
        "  return coeff\n",
        "\n",
        "def LinearPredict(X,coeff): #If X was scaled, then this will return scaled predictions\n",
        "  return X@coeff\n",
        "\n",
        "def MSE(pred,y):\n",
        "  return np.sum((pred-y)**2)/len(y)\n",
        "\n",
        "def sigmoid(t):\n",
        "  return 1/(1+np.exp(-t))\n",
        "\n",
        "def LogisticProbability(X,coeff):\n",
        "  return sigmoid(X@coeff)\n",
        "\n",
        "def LogisticPredict(X,coeff):\n",
        "  return X@coeff>0\n",
        "\n",
        "def accuracy(pred,y):\n",
        "  return np.sum(pred==y)/len(y)\n",
        "\n",
        "def LogLoss(probs,y):\n",
        "  return np.sum(y*np.log(probs)+(1-y)*np.log(1-probs))/len(y)\n",
        "\n",
        "def LogisticSGD(X,y,epochs,batch_size,lr,alpha=0,beta=0):\n",
        "  '''Stochastic Gradient Descent for Logistic Regression'''\n",
        "  #alpha=amount of L1 (Lasso) regularization\n",
        "  #beta=amount of L2 (Ridge) regularization\n",
        "  X=np.array(X) \n",
        "  y=np.array(y) \n",
        "  n=len(X)\n",
        "  coeff=np.ones(X.shape[1]) \n",
        "  indices=np.arange(len(X))\n",
        "  for i in range(epochs):\n",
        "    np.random.seed(i)\n",
        "    np.random.shuffle(indices)\n",
        "    X_shuffle=X[indices] \n",
        "    y_shuffle=y[indices] \n",
        "    num_batches=n//batch_size\n",
        "    for j in range(num_batches):\n",
        "      X_batch=X_shuffle[j*batch_size:(j+1)*batch_size]\n",
        "      y_batch=y_shuffle[j*batch_size:(j+1)*batch_size]\n",
        "      probs=LogisticProbability(X_batch,coeff)\n",
        "      grad=X_batch.T@(probs-y_batch)/len(X_batch)\n",
        "      gradient=lr*grad+alpha*(2*(coeff>0)-1)+beta*coeff\n",
        "      coeff=coeff-gradient \n",
        "    if n%batch_size!=0: #Check if there is a smaller leftover batch\n",
        "      X_batch=X_shuffle[num_batches*batch_size:] #last batch\n",
        "      y_batch=y_shuffle[num_batches*batch_size:] #last batch\n",
        "      probs=LogisticProbability(X_batch,coeff)\n",
        "      grad=X_batch.T@(probs-y_batch)/len(X_batch)\n",
        "      gradient=lr*grad+alpha*(2*(coeff>0)-1)+beta*coeff\n",
        "      coeff=coeff-gradient\n",
        "  return coeff\n"
      ],
      "metadata": {
        "id": "o3bG8pKfzy4M"
      },
      "execution_count": null,
      "outputs": []
    },
    {
      "cell_type": "markdown",
      "source": [
        "Write a function that takes a feature matrix `X` with shape (m,n), and a coefficient matrix `coeff` of shape (n,k), and returns an array with m elements that gives the predicted class of a softmax regression model. Here, m is the number of observations (rows of `X`), n is the number of features (columns of `X`), and k is the number of classes.  The `i`th element of the array that is returned should be the column number of the maximum element of the `i`th row of `X` times `coeff`."
      ],
      "metadata": {
        "id": "H1ViUUWMuQ9D"
      }
    },
    {
      "cell_type": "code",
      "source": [
        "def SoftmaxPredict(X,coeff):\n",
        "  return np.argmax(X@coeff, axis=1)"
      ],
      "metadata": {
        "id": "2uGtWwMVP-Z-"
      },
      "execution_count": null,
      "outputs": []
    },
    {
      "cell_type": "markdown",
      "source": [
        "Write a function that takes a feature matrix `X` and a coefficient matrix `coeff` (as in the previous problem), and returns a matrix of predicted probabilities of shape (m,k). The entry in row `i`, column `j`, is the probability that the observation in row `i` of X is in class `j`. This is found by the formula\n",
        "$$\\frac{exp(s^j_i)}{\\sum \\limits _{j=1} ^k exp(s^j_i)},$$\n",
        "where $s^j_i$ is the entry in row `i`, column `j`, of the matrix that is the product of `X` and `coeff`. Note that this formula will always be a number between 0 and 1."
      ],
      "metadata": {
        "id": "ugCGjafMu_v1"
      }
    },
    {
      "cell_type": "code",
      "source": [
        "def SoftmaxProbability(X,coeff): \n",
        "  #print(\"X\", X)\n",
        "  return (math.e**(X@coeff))/np.sum(math.e**(X@coeff), axis = 1)[:,np.newaxis]"
      ],
      "metadata": {
        "id": "x27g7_DAJ7-h"
      },
      "execution_count": null,
      "outputs": []
    },
    {
      "cell_type": "markdown",
      "source": [
        "Write a function `OneHot` that takes a target array `y` with m entries, where each entry is one of k possible classes, and returns a matrix of shape (m,k), where each entry is a 1 or a 0. If there is a 1 in row `i`, column `j`,  of OneHot(y), that would indicate that the `i`th entry of `y` is the number `j`. "
      ],
      "metadata": {
        "id": "BOsSiwKXv2IC"
      }
    },
    {
      "cell_type": "code",
      "source": [
        "def OneHot(y):\n",
        "  # pass y into get dummies\n",
        "  return np.array(pd.get_dummies(y))\n",
        "  #turn rersult into np.array\n",
        "\n"
      ],
      "metadata": {
        "id": "U_w3fgucgZbg"
      },
      "execution_count": null,
      "outputs": []
    },
    {
      "cell_type": "markdown",
      "source": [
        "The function `SoftmaxSGD` finds the coefficients of softmax regression by gradient descent. The code is almost identical to the LogisticSGD function at the top of this colab. Read the code below, paying special attention ot the comments, and complete the two missing lines indicated by \"#YOUR CODE HERE\". \n",
        "\n",
        "Note that the gradient of the categorical cross-entropy function (the loss function used in Softmax regression) is given by \n",
        "$$X^{T}(probs-\\overline{y})$$\n",
        "where $probs$ is given by `SoftmaxProbability(X,coeff)` and $\\overline{y}$ is the One Hot enoding of the target vector $y$. "
      ],
      "metadata": {
        "id": "O_UBX-6jwiSU"
      }
    },
    {
      "cell_type": "code",
      "source": [
        "def SoftmaxSGD(X,y,epochs,batch_size,lr,alpha=0,beta=0):\n",
        "  '''Stochastic Gradient Descent for Softmax Regression'''\n",
        "  X=np.array(X) \n",
        "  y=np.array(y)\n",
        "  classes=np.max(y)+1 #THIS IS NEW!\n",
        "  ybar=OneHot(y) #THIS IS NEW!\n",
        "  n=len(X)\n",
        "  coeff=np.ones((X.shape[1],classes)) #initial coeff matrix. Note the shape!\n",
        "  indices=np.arange(len(X))\n",
        "  for i in range(epochs):\n",
        "    np.random.seed(i)\n",
        "    np.random.shuffle(indices)\n",
        "    X_shuffle=X[indices] \n",
        "    y_shuffle=ybar[indices] #NOTE THE CHANGE FROM y to ybar\n",
        "    num_batches=n//batch_size\n",
        "    for j in range(num_batches):\n",
        "      X_batch=X_shuffle[j*batch_size:(j+1)*batch_size]\n",
        "      y_batch=y_shuffle[j*batch_size:(j+1)*batch_size]\n",
        "      probs=SoftmaxProbability(X_batch,coeff)\n",
        "      grad=X_batch.T@(probs-y_batch)/len(X_batch) #NOTHING NEW HERE!!!!\n",
        "      gradient=lr*grad+alpha*(2*(coeff>0)-1)+beta*coeff\n",
        "      coeff=coeff-gradient \n",
        "    if n%batch_size!=0: #Check if there is a smaller leftover batch\n",
        "      X_batch=X_shuffle[num_batches*batch_size:] \n",
        "      y_batch=y_shuffle[num_batches*batch_size:] \n",
        "      probs=SoftmaxProbability(X_batch,coeff)\n",
        "      grad=X_batch.T@(probs-y_batch)/len(X_batch)\n",
        "      gradient=lr*grad+alpha*(2*(coeff>0)-1)+beta*coeff\n",
        "      coeff=coeff-gradient\n",
        "  return coeff\n"
      ],
      "metadata": {
        "id": "o578f5schYzZ"
      },
      "execution_count": null,
      "outputs": []
    },
    {
      "cell_type": "markdown",
      "source": [
        "We now load the `digits` feature matrix and target that we first encountered in Homework 4. "
      ],
      "metadata": {
        "id": "SnoKOiSyw5le"
      }
    },
    {
      "cell_type": "code",
      "source": [
        "X=load_digits().data\n",
        "y=load_digits().target\n"
      ],
      "metadata": {
        "id": "d1ulPgG1H25S"
      },
      "execution_count": null,
      "outputs": []
    },
    {
      "cell_type": "markdown",
      "source": [
        "As usual, do the following:\n",
        "1. 80/20 Test-train split to obtain Xtrain, Xtest, ytrain and ytest\n",
        "2. Scale Xtrain and Xtest\n",
        "3. Add a column of ones to Xtrain and Xtest"
      ],
      "metadata": {
        "id": "tCi4VyAnxD8x"
      }
    },
    {
      "cell_type": "code",
      "source": [
        "Xtrain,Xtest,ytrain,ytest = TrainTestSplit(X,y,.8,seed=1)\n",
        "#Scale training feature matrix and test feature matrix\n",
        "Xtrain_scaler = Scaler(Xtrain)\n",
        "\n",
        "Xtrain_scaled = Xtrain_scaler.scale(Xtrain)\n",
        "Xtest_scaled = Xtrain_scaler.scale(Xtest)\n",
        "\n",
        "\n",
        "\n",
        "# Add a column of ones to Xtrain and Xtest\n",
        "Xtrain_scaled=AddOnes(Xtrain_scaled)\n",
        "Xtest_scaled=AddOnes(Xtest_scaled)\n"
      ],
      "metadata": {
        "id": "zHwjJjnbxBi5"
      },
      "execution_count": null,
      "outputs": []
    },
    {
      "cell_type": "markdown",
      "source": [
        "Find the coefficient matrix of a softmax regression model to predict which digit is which. Use 10000 epochs, with batch sizes of 5000, and a learning rate of 0.01."
      ],
      "metadata": {
        "id": "f03UPFwUxVIF"
      }
    },
    {
      "cell_type": "code",
      "source": [
        "# (X,y,epochs,batch_size,lr,alpha=0,beta=0)\n",
        "coeff=SoftmaxSGD(Xtrain_scaled,ytrain,10000,5000,.01,alpha=0, beta=0)\n",
        "coeff"
      ],
      "metadata": {
        "id": "Z_RRRAhsgTQj",
        "colab": {
          "base_uri": "https://localhost:8080/"
        },
        "outputId": "c2113f16-2842-4905-d593-959e8a516a37"
      },
      "execution_count": null,
      "outputs": [
        {
          "output_type": "execute_result",
          "data": {
            "text/plain": [
              "array([[ 1.        ,  1.        ,  1.        ,  1.        ,  1.        ,\n",
              "         1.        ,  1.        ,  1.        ,  1.        ,  1.        ],\n",
              "       [ 0.94443274,  0.88071394,  1.14591728,  1.13947983,  0.95433782,\n",
              "         1.21867171,  0.91585354,  0.95108033,  0.91200204,  0.93751078],\n",
              "       [ 0.88310184,  0.65151415,  1.45632003,  1.33541372,  0.488992  ,\n",
              "         1.8610445 ,  0.42250768,  1.06201593,  0.79297247,  1.04611768],\n",
              "       [ 1.1867326 ,  0.68173831,  1.23112453,  1.37335271,  0.33783946,\n",
              "         1.13979016,  0.85539953,  1.3072843 ,  0.72842438,  1.15831403],\n",
              "       [ 0.89611943,  0.29534135,  0.91743008,  1.65094229,  0.90073255,\n",
              "         1.36967183,  0.81125922,  1.33688965,  1.00208769,  0.81952591],\n",
              "       [ 0.5744144 ,  1.13533929,  0.6966702 ,  1.42808316,  0.27429456,\n",
              "         2.0717397 ,  0.55238845,  1.55329518,  0.91721456,  0.7965605 ],\n",
              "       [ 0.8090978 ,  0.93933481,  0.85243399,  0.95439355,  0.73079375,\n",
              "         1.48742226,  0.87494628,  1.58622007,  0.71745861,  1.04789888],\n",
              "       [ 0.97662604,  0.96620912,  0.9839395 ,  0.98442642,  1.01731265,\n",
              "         0.94779082,  0.98939471,  1.21363891,  0.9624982 ,  0.95816364],\n",
              "       [ 0.9967635 ,  0.98470783,  0.997839  ,  0.99543139,  0.99768639,\n",
              "         0.98677966,  0.9928772 ,  0.9958357 ,  1.06339132,  0.98868801],\n",
              "       [ 0.86559559,  0.60530422,  1.38249241,  1.29812897,  0.85711624,\n",
              "         1.23427454,  0.71268818,  0.9170506 ,  1.0032411 ,  1.12410816],\n",
              "       [ 1.17895149, -0.0870506 ,  1.39175259,  1.23698289,  0.15288748,\n",
              "         1.65850246,  0.52224873,  1.14751368,  1.38796789,  1.41024339],\n",
              "       [ 1.25380398,  0.99152608,  1.08177047,  0.72157235,  1.02930904,\n",
              "         1.07922175,  1.22745129,  1.10575331,  0.66339299,  0.84619874],\n",
              "       [ 1.28745604,  1.45804061,  1.42491215,  1.13864892,  0.64875492,\n",
              "         0.73770492,  0.50525301,  1.4443235 ,  0.46833139,  0.88657456],\n",
              "       [ 1.43910144,  1.06068212,  0.83329984,  1.61651978,  0.09730435,\n",
              "         0.48091252,  0.15244029,  1.37983531,  1.58644392,  1.35346044],\n",
              "       [ 0.88351305,  0.78368089,  0.84684556,  1.18983851,  0.82350765,\n",
              "         0.91691703,  0.81728049,  1.41087431,  1.10707088,  1.22047162],\n",
              "       [ 0.9727218 ,  0.96037398,  0.98641787,  0.99125612,  1.03427666,\n",
              "         0.95163935,  0.98582743,  1.17773233,  0.96902541,  0.97072905],\n",
              "       [ 0.99499399,  1.05169757,  0.9853117 ,  1.00579311,  0.99357629,\n",
              "         0.97548017,  0.98579832,  0.99720495,  1.01765567,  0.99248822],\n",
              "       [ 1.10708597,  0.78808918,  1.17353538,  0.89250292,  0.87721486,\n",
              "         1.38258765,  0.70218421,  0.71464225,  1.16859722,  1.19356036],\n",
              "       [ 1.47019248,  0.66841934,  0.73020366, -0.27538634,  1.06921185,\n",
              "         1.72289327,  1.25886388,  0.25870015,  1.43795388,  1.65894783],\n",
              "       [ 0.90220286,  2.46378479,  0.45621699,  0.26414668,  1.5314986 ,\n",
              "         0.93418831,  1.23428545,  0.37510909,  0.92333489,  0.91523235],\n",
              "       [ 0.42422334,  2.31199977,  1.33985312,  1.72582326,  0.95646825,\n",
              "         0.08646092,  0.16017438,  1.08833682,  0.70790116,  1.19875899],\n",
              "       [ 1.54444306,  0.82974878,  1.02655602,  1.00001021,  0.75422528,\n",
              "        -0.52577952, -0.04164846,  1.2603236 ,  1.78150269,  2.37061834],\n",
              "       [ 1.20600298,  0.7823862 ,  0.94322248,  0.86296355,  1.22313035,\n",
              "         0.47877736,  0.74180324,  1.24117825,  1.15379027,  1.36674532],\n",
              "       [ 0.98269455,  0.97095391,  0.99491989,  0.99031396,  1.11113962,\n",
              "         0.96788199,  0.98401974,  1.02537299,  0.98012414,  0.99257921],\n",
              "       [ 0.99535698,  1.04279975,  0.99418596,  0.99886544,  1.03022978,\n",
              "         0.97223613,  0.98573139,  0.99488586,  0.98928986,  0.99641886],\n",
              "       [ 1.35362748,  1.05419019,  0.78309691,  0.64807812,  1.41786881,\n",
              "         1.56531614,  0.93757908,  0.65960155,  0.70876569,  0.87187603],\n",
              "       [ 1.39047081,  1.20134304, -0.19441097, -0.31122048,  1.72146191,\n",
              "         1.97186633,  1.4540145 ,  0.40203159,  0.83187244,  1.53257083],\n",
              "       [ 0.12206192,  1.94433736, -0.16125213,  0.79235711,  0.66449533,\n",
              "         1.51856628,  0.90030896,  0.53618622,  1.82721318,  1.85572576],\n",
              "       [-0.32373287,  1.4545704 ,  0.96621746,  1.537984  ,  0.89601716,\n",
              "         1.03424606,  0.22011249,  1.17045971,  1.4134074 ,  1.63071816],\n",
              "       [ 1.0606399 ,  0.8527571 ,  0.88384587,  0.18893791,  1.39728779,\n",
              "         0.61713681,  0.25372227,  1.73335017,  0.88429329,  2.12802889],\n",
              "       [ 1.57039483,  0.65999612,  0.8114772 ,  0.50603839,  1.72714943,\n",
              "         0.58424164,  0.57969641,  1.53119026,  0.6237755 ,  1.40604023],\n",
              "       [ 0.98424743,  0.98937345,  0.99775514,  0.99752978,  1.11068557,\n",
              "         0.99113014,  0.98960771,  0.96735362,  0.98970215,  0.98261502],\n",
              "       [ 1.        ,  1.        ,  1.        ,  1.        ,  1.        ,\n",
              "         1.        ,  1.        ,  1.        ,  1.        ,  1.        ],\n",
              "       [ 1.50208796,  0.80900948,  0.74008563,  0.75833412,  2.06911389,\n",
              "         1.00528457,  1.12212908,  0.93424598,  0.49719097,  0.56251834],\n",
              "       [ 1.53604151,  0.84201576,  0.05662387,  0.29993229,  1.88851401,\n",
              "         1.14367966,  1.81990655,  1.2416874 ,  0.71552369,  0.45607526],\n",
              "       [ 0.03404993,  1.10429528,  0.74197504,  0.69270727,  1.00000614,\n",
              "         0.70849196,  1.54216015,  1.44671418,  1.91331825,  0.81628181],\n",
              "       [-0.29294546,  1.27656588,  0.87644704,  1.63669345,  1.44119457,\n",
              "         0.60594456,  1.28090781,  1.51830584,  1.51693665,  0.13994967],\n",
              "       [ 0.8395856 ,  0.56553019,  0.13169543,  1.34503682,  1.74843189,\n",
              "         1.14670699,  1.16509326,  1.68434598,  0.17421111,  1.19936275],\n",
              "       [ 1.57982387,  0.49878602,  0.55272485,  0.77948584,  1.5049807 ,\n",
              "         1.04592719,  0.93083021,  1.4758635 ,  0.32878306,  1.30279477],\n",
              "       [ 1.        ,  1.        ,  1.        ,  1.        ,  1.        ,\n",
              "         1.        ,  1.        ,  1.        ,  1.        ,  1.        ],\n",
              "       [ 0.9878568 ,  0.99125702,  0.99738561,  0.9981615 ,  1.05515444,\n",
              "         0.99623796,  0.98457198,  0.9964283 ,  0.99527707,  0.99766931],\n",
              "       [ 1.19705237,  0.68670827,  0.99876348,  0.9121395 ,  1.79392676,\n",
              "         0.79491133,  0.9275758 ,  0.98620401,  0.91364873,  0.78906975],\n",
              "       [ 1.87910266,  0.53121438,  1.03960121,  0.30352448,  1.46995659,\n",
              "         0.09731307,  1.97260745,  0.90447984,  1.88862932, -0.08642902],\n",
              "       [ 0.37712214,  1.26784963,  1.9310105 ,  0.03407027,  1.73292601,\n",
              "         0.34358259,  1.52082592,  1.62724023,  1.11129595,  0.05407676],\n",
              "       [ 0.29415857,  1.73671144,  0.81049841,  0.79167075,  1.95224863,\n",
              "         0.71093365,  0.80695115,  1.28447542,  1.27705272,  0.33529927],\n",
              "       [ 1.25981049,  0.49796643, -0.01833052,  1.7499761 ,  1.3118455 ,\n",
              "         1.19069167,  1.26143308,  0.59003675,  1.31532656,  0.84124393],\n",
              "       [ 1.19426612,  0.44121567,  0.52190496,  1.55653152,  0.81565734,\n",
              "         1.06747909,  1.76390922,  0.77766091,  0.64342102,  1.21795416],\n",
              "       [ 0.99351188,  0.98170338,  0.99418213,  0.99091849,  0.98682808,\n",
              "         0.99361949,  1.07042406,  0.99518065,  0.98872756,  1.00490428],\n",
              "       [ 0.98693383,  0.99156721,  1.01611639,  0.99833932,  1.02812249,\n",
              "         0.99821858,  0.99265144,  0.99716824,  0.99273847,  0.99814403],\n",
              "       [ 0.96504417,  0.84251685,  1.18180595,  1.01050422,  1.16301295,\n",
              "         1.01823703,  0.88220168,  0.90639361,  1.00545739,  1.02482614],\n",
              "       [ 1.63088345,  0.54782551,  1.53995448,  0.88565878,  0.42905433,\n",
              "         0.80159569,  1.33849365,  0.51987072,  1.67739538,  0.629268  ],\n",
              "       [ 1.11463003,  1.21496397,  1.94339175,  0.54915241,  0.75743414,\n",
              "         0.70679292,  1.49617031,  1.4565558 ,  0.36260796,  0.3983007 ],\n",
              "       [ 1.20041772,  1.61954166,  1.65467211,  1.01413858,  1.51862063,\n",
              "         1.18793123,  0.45940075,  0.29659289,  0.54224704,  0.50643739],\n",
              "       [ 1.44450123,  0.93128258,  1.43052542,  1.50866864,  0.3130053 ,\n",
              "         0.9725785 ,  1.43966211, -0.13991904,  1.3156533 ,  0.78404196],\n",
              "       [ 0.73108862,  0.75144712,  1.46794905,  1.38045802,  0.50512296,\n",
              "         0.73645337,  1.88611647,  0.63369767,  0.78773942,  1.1199273 ],\n",
              "       [ 0.95648673,  1.23646702,  1.09441163,  0.93931371,  0.9543618 ,\n",
              "         0.94181833,  0.99777432,  0.96873804,  0.9163309 ,  0.99429752],\n",
              "       [ 0.99743859,  0.98536672,  1.04585636,  0.99773242,  0.99723475,\n",
              "         0.99863832,  0.99845583,  0.9957628 ,  0.98550693,  0.99800728],\n",
              "       [ 0.94792466,  0.90259042,  1.17020994,  1.09594814,  0.96858286,\n",
              "         1.19366789,  0.93574553,  0.92185444,  0.92741744,  0.93605866],\n",
              "       [ 0.83103168,  0.50795301,  1.46919242,  1.51633145,  0.46541961,\n",
              "         1.8798728 ,  0.46998281,  1.21580932,  0.62283592,  1.02157098],\n",
              "       [ 1.19276211,  0.65395647,  1.19191862,  1.36251568,  0.45333075,\n",
              "         1.48819683,  0.72476725,  0.90726695,  1.0093829 ,  1.01590244],\n",
              "       [ 1.07567499,  1.19615231,  1.27164349,  1.34881554,  1.02923751,\n",
              "         0.77057524,  1.30201616, -0.35651871,  1.3042398 ,  1.05816367],\n",
              "       [ 0.69371693,  1.54556142,  1.90582372,  1.15644623,  0.29619109,\n",
              "         0.45836359,  1.82590135,  0.13909036,  0.99954685,  0.97935846],\n",
              "       [ 0.76431521,  1.35294401,  1.93183712,  0.7808596 ,  0.74463997,\n",
              "         0.69718009,  1.17681781,  0.76780212,  0.81240585,  0.97119822],\n",
              "       [ 0.95604956,  1.41264277,  1.22011797,  0.86165246,  0.96210146,\n",
              "         0.91159427,  0.89100776,  0.95966097,  0.90453676,  0.92063601],\n",
              "       [ 0.96107178,  0.91078337,  1.04406752,  1.06261723,  1.07303989,\n",
              "         1.05915222,  0.93587867,  1.09299817,  0.81496989,  1.04542127]])"
            ]
          },
          "metadata": {},
          "execution_count": 17
        }
      ]
    },
    {
      "cell_type": "markdown",
      "source": [
        "Generate predictions for your model on the test set Xtest."
      ],
      "metadata": {
        "id": "LJMY9kBaxqWa"
      }
    },
    {
      "cell_type": "code",
      "source": [
        "pred=SoftmaxPredict(Xtest_scaled,coeff)\n",
        "pred\n"
      ],
      "metadata": {
        "id": "tHaSN_tsgV5U",
        "colab": {
          "base_uri": "https://localhost:8080/"
        },
        "outputId": "8a51feed-c5e8-41cf-cdcd-97d591f83bdf"
      },
      "execution_count": null,
      "outputs": [
        {
          "output_type": "execute_result",
          "data": {
            "text/plain": [
              "array([5, 0, 1, 4, 5, 7, 7, 0, 3, 1, 0, 7, 8, 4, 5, 1, 1, 0, 8, 1, 3, 4,\n",
              "       5, 9, 0, 2, 5, 0, 1, 4, 7, 5, 7, 8, 6, 9, 8, 0, 1, 3, 7, 0, 1, 7,\n",
              "       2, 0, 8, 7, 0, 3, 2, 3, 6, 2, 3, 7, 3, 4, 5, 6, 0, 2, 5, 9, 5, 2,\n",
              "       9, 4, 7, 0, 9, 6, 9, 3, 7, 2, 6, 4, 6, 1, 0, 2, 0, 6, 3, 2, 3, 3,\n",
              "       1, 3, 4, 9, 8, 8, 8, 8, 0, 6, 2, 6, 9, 5, 0, 2, 8, 4, 6, 1, 2, 0,\n",
              "       1, 1, 1, 1, 0, 9, 7, 4, 4, 8, 5, 4, 0, 2, 0, 1, 0, 2, 5, 4, 7, 7,\n",
              "       0, 2, 3, 6, 4, 9, 5, 8, 7, 6, 7, 1, 7, 3, 9, 1, 8, 6, 2, 5, 0, 5,\n",
              "       8, 2, 7, 6, 5, 9, 3, 1, 6, 5, 3, 6, 1, 7, 2, 5, 9, 1, 2, 5, 6, 9,\n",
              "       3, 8, 7, 7, 6, 3, 3, 6, 5, 0, 9, 0, 3, 4, 0, 7, 0, 2, 5, 0, 7, 0,\n",
              "       1, 3, 7, 5, 8, 7, 5, 0, 7, 9, 9, 0, 3, 2, 1, 4, 8, 4, 9, 3, 4, 7,\n",
              "       8, 0, 5, 6, 0, 3, 0, 2, 3, 6, 2, 0, 0, 6, 4, 3, 0, 7, 5, 4, 8, 9,\n",
              "       7, 8, 2, 3, 6, 8, 9, 4, 5, 5, 6, 9, 9, 8, 3, 2, 7, 6, 3, 3, 3, 6,\n",
              "       9, 9, 2, 0, 1, 1, 6, 6, 5, 7, 4, 8, 2, 0, 6, 8, 9, 7, 5, 8, 3, 9,\n",
              "       5, 2, 2, 0, 9, 3, 4, 9, 0, 6, 7, 7, 5, 8, 8, 0, 1, 3, 5, 3, 5, 9,\n",
              "       6, 8, 1, 7, 1, 0, 8, 4, 8, 9, 0, 2, 0, 2, 8, 7, 8, 1, 9, 4, 2, 7,\n",
              "       5, 0, 2, 7, 8, 0, 1, 2, 1, 2, 8, 5, 8, 1, 2, 5, 6, 6, 9, 1, 5, 2,\n",
              "       6, 7, 5, 6, 4, 0, 9, 8])"
            ]
          },
          "metadata": {},
          "execution_count": 18
        }
      ]
    },
    {
      "cell_type": "markdown",
      "source": [
        "Evaluate the accuracy of those predictions. (You may use the `accuracy` function at the top of this colab.)"
      ],
      "metadata": {
        "id": "yGQ2yQh3Nka7"
      }
    },
    {
      "cell_type": "code",
      "source": [
        "acc=accuracy(pred,ytest)\n",
        "acc"
      ],
      "metadata": {
        "id": "CggbO6NmLv1h",
        "colab": {
          "base_uri": "https://localhost:8080/"
        },
        "outputId": "8de62bdc-a29a-47fc-d962-fa0b09bf21ec"
      },
      "execution_count": null,
      "outputs": [
        {
          "output_type": "execute_result",
          "data": {
            "text/plain": [
              "0.9444444444444444"
            ]
          },
          "metadata": {},
          "execution_count": 19
        }
      ]
    }
  ]
}