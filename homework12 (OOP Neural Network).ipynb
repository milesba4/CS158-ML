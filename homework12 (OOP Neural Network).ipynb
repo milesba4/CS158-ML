{
  "nbformat": 4,
  "nbformat_minor": 0,
  "metadata": {
    "colab": {
      "provenance": [],
      "include_colab_link": true
    },
    "kernelspec": {
      "name": "python3",
      "display_name": "Python 3"
    },
    "language_info": {
      "name": "python"
    }
  },
  "cells": [
    {
      "cell_type": "markdown",
      "metadata": {
        "id": "view-in-github",
        "colab_type": "text"
      },
      "source": [
        "<a href=\"https://colab.research.google.com/github/milesba4/CS158-ML/blob/main/homework12%20(OOP%20Neural%20Network).ipynb\" target=\"_parent\"><img src=\"https://colab.research.google.com/assets/colab-badge.svg\" alt=\"Open In Colab\"/></a>"
      ]
    },
    {
      "cell_type": "markdown",
      "source": [
        "**Homework 12.**"
      ],
      "metadata": {
        "id": "WRhTLUOx2st_"
      }
    },
    {
      "cell_type": "markdown",
      "source": [
        "For this assignment, you won't need more than numpy:"
      ],
      "metadata": {
        "id": "6yqXf1hfJZ9J"
      }
    },
    {
      "cell_type": "code",
      "source": [
        "import numpy as np"
      ],
      "metadata": {
        "id": "BNcIbf6Wk-mT"
      },
      "execution_count": null,
      "outputs": []
    },
    {
      "cell_type": "markdown",
      "source": [
        "In this assignment, you'll be creating three classes: `Linear`, `Softmax`, and `Model`. The `Linear` and `Softmax` classes will define layers of a Neural Network. The Model class defines a particular network, given a list of layers. \n",
        "\n",
        "For example, consider the following code:\n",
        "```\n",
        "layer1=Linear(2,3)\n",
        "layer2=Linear(3,10)\n",
        "layer3=Softmax()\n",
        "network=Model([layer1,layer2,layer3])\n",
        "```\n",
        "\n",
        "Here, layer1 takes a feature matrix with 2 columns (features), and produces a matrix with the same number of rows and 3 columns. layer2 then accepts that matrix, and produces one with 10 columns. Finally, the Softmax layer produces columns with positive values that sum to 1, representing the probability that each observation (row) is one of 10 possible classes. \n",
        "\n",
        "All three classes (Linear and Softmax) should have a `predict` method. If `X` is a feature matrix of shape (n,2), then running `network.predict(X)` after the above code will call the `predict` methods of each layer, and produce a matrix of shape (n,10), of positive values, where each row sums to 1.\n"
      ],
      "metadata": {
        "id": "_3ONia8dlFcz"
      }
    },
    {
      "cell_type": "code",
      "source": [
        "class Linear():\n",
        "  '''Fully connected linear layer class'''\n",
        "  def __init__(self, input_size, output_size):\n",
        "    np.random.seed(1) #Don't use in practice! This is just to make sure we all get the same answers\n",
        "    self.weights = np.random.randn(input_size, output_size) * np.sqrt(2.0 / input_size) #Standard weight initialization\n",
        "    self.biases = np.zeros(output_size) #Standard bias initialization\n",
        "\n",
        "  def predict(self,input):\n",
        "    #YOUR CODE HERE"
      ],
      "metadata": {
        "id": "YW9aKNRvlB1C"
      },
      "execution_count": null,
      "outputs": []
    },
    {
      "cell_type": "code",
      "source": [
        "class Softmax():\n",
        "  '''Implement Softmax as final layer for prediction only'''\n",
        "  def __init__(self):\n",
        "    pass #No init function necessary\n",
        "\n",
        "  def predict(self,input):\n",
        "    #YOUR CODE HERE"
      ],
      "metadata": {
        "id": "SWUdw-23oEgw"
      },
      "execution_count": null,
      "outputs": []
    },
    {
      "cell_type": "code",
      "source": [
        "class Model():\n",
        "  def __init__(self,layerlist):\n",
        "    self.layerlist=layerlist\n",
        "  \n",
        "  def add(self,layer):\n",
        "    self.layerlist+=[layer]\n",
        "\n",
        "  def predict(self,input):\n",
        "    #YOUR CODE HERE"
      ],
      "metadata": {
        "id": "PeT7gh7FoIDl"
      },
      "execution_count": null,
      "outputs": []
    },
    {
      "cell_type": "markdown",
      "source": [
        "Now test your code. Run this code block. You should see a matrix of shape (15,10), where each row sums to 1. "
      ],
      "metadata": {
        "id": "4nXhjg-5osf2"
      }
    },
    {
      "cell_type": "code",
      "source": [
        "np.random.seed(4)\n",
        "X=np.random.random(30).reshape((15,2)) #generate a random feature matrix with 2 features, and 15 observations\n",
        "\n",
        "layer1=Linear(2,3)\n",
        "layer2=Linear(3,10)\n",
        "layer3=Softmax()\n",
        "network=Model([layer1,layer2,layer3])\n",
        "\n",
        "network.predict(X)"
      ],
      "metadata": {
        "id": "OOnzcgDKo7kc"
      },
      "execution_count": null,
      "outputs": []
    },
    {
      "cell_type": "markdown",
      "source": [
        "To see this as predicted classes, rather than probabilities of each class, recall that you can use the argmax function to pick out the class with the highest probability for each observation:"
      ],
      "metadata": {
        "id": "C0ZAlHYUbOWG"
      }
    },
    {
      "cell_type": "code",
      "source": [
        "np.argmax(network.predict(X),axis=1)"
      ],
      "metadata": {
        "id": "ywOGl36Val9A"
      },
      "execution_count": null,
      "outputs": []
    },
    {
      "cell_type": "markdown",
      "source": [
        "Without a softmax layer you can do regression tasks if the last layer outputs a single real number for each observation. Here we'll use the `add` method of the `Model` class to build a neural network one layer at a time, instead of all at once. This avoids having to name each layer."
      ],
      "metadata": {
        "id": "Um1tJ8x4cPMc"
      }
    },
    {
      "cell_type": "code",
      "source": [
        "network2=Model([])\n",
        "network2.add(Linear(2,10))\n",
        "network2.add(Linear(10,1))\n",
        "\n",
        "network2.predict(X)"
      ],
      "metadata": {
        "id": "iIvG1RCmc3yI"
      },
      "execution_count": null,
      "outputs": []
    },
    {
      "cell_type": "markdown",
      "source": [
        "In the next assignment, you'll add methods to your classes that adjust the weights and biases of each layer, so that your network genetrates predictions that match some target."
      ],
      "metadata": {
        "id": "TV3lga53fe0e"
      }
    }
  ]
}