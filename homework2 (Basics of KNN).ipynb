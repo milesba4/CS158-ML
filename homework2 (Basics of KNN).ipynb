{
  "nbformat": 4,
  "nbformat_minor": 0,
  "metadata": {
    "colab": {
      "provenance": [],
      "include_colab_link": true
    },
    "kernelspec": {
      "name": "python3",
      "display_name": "Python 3"
    },
    "language_info": {
      "name": "python"
    }
  },
  "cells": [
    {
      "cell_type": "markdown",
      "metadata": {
        "id": "view-in-github",
        "colab_type": "text"
      },
      "source": [
        "<a href=\"https://colab.research.google.com/github/milesba4/CS158-ML/blob/main/homework2%20(Basics%20of%20KNN).ipynb\" target=\"_parent\"><img src=\"https://colab.research.google.com/assets/colab-badge.svg\" alt=\"Open In Colab\"/></a>"
      ]
    },
    {
      "cell_type": "markdown",
      "source": [
        "**Homework 2**"
      ],
      "metadata": {
        "id": "G8OReEGoBUyY"
      }
    },
    {
      "cell_type": "markdown",
      "source": [
        "We begin with the usual imports."
      ],
      "metadata": {
        "id": "BxOCrr74BYky"
      }
    },
    {
      "cell_type": "code",
      "execution_count": null,
      "metadata": {
        "id": "nyeQSz7hP6MN"
      },
      "outputs": [],
      "source": [
        "import numpy as np\n",
        "import pandas as pd"
      ]
    },
    {
      "cell_type": "markdown",
      "source": [
        "Now load the iris dataset."
      ],
      "metadata": {
        "id": "ENoFBgC2Bcvt"
      }
    },
    {
      "cell_type": "code",
      "source": [
        "iris=pd.read_csv(\"https://vincentarelbundock.github.io/Rdatasets/csv/datasets/iris.csv\",index_col=0)\n",
        "iris.head(5)"
      ],
      "metadata": {
        "id": "5pStLgrIQCQu",
        "colab": {
          "base_uri": "https://localhost:8080/",
          "height": 206
        },
        "outputId": "78be3735-b926-43d1-9ee6-da900d56aa14"
      },
      "execution_count": null,
      "outputs": [
        {
          "output_type": "execute_result",
          "data": {
            "text/plain": [
              "   Sepal.Length  Sepal.Width  Petal.Length  Petal.Width Species\n",
              "1           5.1          3.5           1.4          0.2  setosa\n",
              "2           4.9          3.0           1.4          0.2  setosa\n",
              "3           4.7          3.2           1.3          0.2  setosa\n",
              "4           4.6          3.1           1.5          0.2  setosa\n",
              "5           5.0          3.6           1.4          0.2  setosa"
            ],
            "text/html": [
              "\n",
              "  <div id=\"df-283222f7-e45e-42fc-bab5-ee2a3b255e28\">\n",
              "    <div class=\"colab-df-container\">\n",
              "      <div>\n",
              "<style scoped>\n",
              "    .dataframe tbody tr th:only-of-type {\n",
              "        vertical-align: middle;\n",
              "    }\n",
              "\n",
              "    .dataframe tbody tr th {\n",
              "        vertical-align: top;\n",
              "    }\n",
              "\n",
              "    .dataframe thead th {\n",
              "        text-align: right;\n",
              "    }\n",
              "</style>\n",
              "<table border=\"1\" class=\"dataframe\">\n",
              "  <thead>\n",
              "    <tr style=\"text-align: right;\">\n",
              "      <th></th>\n",
              "      <th>Sepal.Length</th>\n",
              "      <th>Sepal.Width</th>\n",
              "      <th>Petal.Length</th>\n",
              "      <th>Petal.Width</th>\n",
              "      <th>Species</th>\n",
              "    </tr>\n",
              "  </thead>\n",
              "  <tbody>\n",
              "    <tr>\n",
              "      <th>1</th>\n",
              "      <td>5.1</td>\n",
              "      <td>3.5</td>\n",
              "      <td>1.4</td>\n",
              "      <td>0.2</td>\n",
              "      <td>setosa</td>\n",
              "    </tr>\n",
              "    <tr>\n",
              "      <th>2</th>\n",
              "      <td>4.9</td>\n",
              "      <td>3.0</td>\n",
              "      <td>1.4</td>\n",
              "      <td>0.2</td>\n",
              "      <td>setosa</td>\n",
              "    </tr>\n",
              "    <tr>\n",
              "      <th>3</th>\n",
              "      <td>4.7</td>\n",
              "      <td>3.2</td>\n",
              "      <td>1.3</td>\n",
              "      <td>0.2</td>\n",
              "      <td>setosa</td>\n",
              "    </tr>\n",
              "    <tr>\n",
              "      <th>4</th>\n",
              "      <td>4.6</td>\n",
              "      <td>3.1</td>\n",
              "      <td>1.5</td>\n",
              "      <td>0.2</td>\n",
              "      <td>setosa</td>\n",
              "    </tr>\n",
              "    <tr>\n",
              "      <th>5</th>\n",
              "      <td>5.0</td>\n",
              "      <td>3.6</td>\n",
              "      <td>1.4</td>\n",
              "      <td>0.2</td>\n",
              "      <td>setosa</td>\n",
              "    </tr>\n",
              "  </tbody>\n",
              "</table>\n",
              "</div>\n",
              "      <button class=\"colab-df-convert\" onclick=\"convertToInteractive('df-283222f7-e45e-42fc-bab5-ee2a3b255e28')\"\n",
              "              title=\"Convert this dataframe to an interactive table.\"\n",
              "              style=\"display:none;\">\n",
              "        \n",
              "  <svg xmlns=\"http://www.w3.org/2000/svg\" height=\"24px\"viewBox=\"0 0 24 24\"\n",
              "       width=\"24px\">\n",
              "    <path d=\"M0 0h24v24H0V0z\" fill=\"none\"/>\n",
              "    <path d=\"M18.56 5.44l.94 2.06.94-2.06 2.06-.94-2.06-.94-.94-2.06-.94 2.06-2.06.94zm-11 1L8.5 8.5l.94-2.06 2.06-.94-2.06-.94L8.5 2.5l-.94 2.06-2.06.94zm10 10l.94 2.06.94-2.06 2.06-.94-2.06-.94-.94-2.06-.94 2.06-2.06.94z\"/><path d=\"M17.41 7.96l-1.37-1.37c-.4-.4-.92-.59-1.43-.59-.52 0-1.04.2-1.43.59L10.3 9.45l-7.72 7.72c-.78.78-.78 2.05 0 2.83L4 21.41c.39.39.9.59 1.41.59.51 0 1.02-.2 1.41-.59l7.78-7.78 2.81-2.81c.8-.78.8-2.07 0-2.86zM5.41 20L4 18.59l7.72-7.72 1.47 1.35L5.41 20z\"/>\n",
              "  </svg>\n",
              "      </button>\n",
              "      \n",
              "  <style>\n",
              "    .colab-df-container {\n",
              "      display:flex;\n",
              "      flex-wrap:wrap;\n",
              "      gap: 12px;\n",
              "    }\n",
              "\n",
              "    .colab-df-convert {\n",
              "      background-color: #E8F0FE;\n",
              "      border: none;\n",
              "      border-radius: 50%;\n",
              "      cursor: pointer;\n",
              "      display: none;\n",
              "      fill: #1967D2;\n",
              "      height: 32px;\n",
              "      padding: 0 0 0 0;\n",
              "      width: 32px;\n",
              "    }\n",
              "\n",
              "    .colab-df-convert:hover {\n",
              "      background-color: #E2EBFA;\n",
              "      box-shadow: 0px 1px 2px rgba(60, 64, 67, 0.3), 0px 1px 3px 1px rgba(60, 64, 67, 0.15);\n",
              "      fill: #174EA6;\n",
              "    }\n",
              "\n",
              "    [theme=dark] .colab-df-convert {\n",
              "      background-color: #3B4455;\n",
              "      fill: #D2E3FC;\n",
              "    }\n",
              "\n",
              "    [theme=dark] .colab-df-convert:hover {\n",
              "      background-color: #434B5C;\n",
              "      box-shadow: 0px 1px 3px 1px rgba(0, 0, 0, 0.15);\n",
              "      filter: drop-shadow(0px 1px 2px rgba(0, 0, 0, 0.3));\n",
              "      fill: #FFFFFF;\n",
              "    }\n",
              "  </style>\n",
              "\n",
              "      <script>\n",
              "        const buttonEl =\n",
              "          document.querySelector('#df-283222f7-e45e-42fc-bab5-ee2a3b255e28 button.colab-df-convert');\n",
              "        buttonEl.style.display =\n",
              "          google.colab.kernel.accessAllowed ? 'block' : 'none';\n",
              "\n",
              "        async function convertToInteractive(key) {\n",
              "          const element = document.querySelector('#df-283222f7-e45e-42fc-bab5-ee2a3b255e28');\n",
              "          const dataTable =\n",
              "            await google.colab.kernel.invokeFunction('convertToInteractive',\n",
              "                                                     [key], {});\n",
              "          if (!dataTable) return;\n",
              "\n",
              "          const docLinkHtml = 'Like what you see? Visit the ' +\n",
              "            '<a target=\"_blank\" href=https://colab.research.google.com/notebooks/data_table.ipynb>data table notebook</a>'\n",
              "            + ' to learn more about interactive tables.';\n",
              "          element.innerHTML = '';\n",
              "          dataTable['output_type'] = 'display_data';\n",
              "          await google.colab.output.renderOutput(dataTable, element);\n",
              "          const docLink = document.createElement('div');\n",
              "          docLink.innerHTML = docLinkHtml;\n",
              "          element.appendChild(docLink);\n",
              "        }\n",
              "      </script>\n",
              "    </div>\n",
              "  </div>\n",
              "  "
            ]
          },
          "metadata": {},
          "execution_count": 3
        }
      ]
    },
    {
      "cell_type": "markdown",
      "source": [
        "Define `data` to be a DataFrame containing the `Petal.Length` and `Petal.Width` of the flowers in the iris dataset. Define `target` to be a Pandas Series containing the `Species` column."
      ],
      "metadata": {
        "id": "NFTIGfRwFqfM"
      }
    },
    {
      "cell_type": "code",
      "source": [
        "data=pd.DataFrame(iris, columns = [\"Petal.Length\", \"Petal.Width\"])\n",
        "data\n",
        "target=iris['Species']\n",
        "target"
      ],
      "metadata": {
        "id": "bH6py8VwPM0L",
        "outputId": "6bbd42c3-3893-4f00-ad06-d314ed6c5459",
        "colab": {
          "base_uri": "https://localhost:8080/"
        }
      },
      "execution_count": null,
      "outputs": [
        {
          "output_type": "execute_result",
          "data": {
            "text/plain": [
              "1         setosa\n",
              "2         setosa\n",
              "3         setosa\n",
              "4         setosa\n",
              "5         setosa\n",
              "         ...    \n",
              "146    virginica\n",
              "147    virginica\n",
              "148    virginica\n",
              "149    virginica\n",
              "150    virginica\n",
              "Name: Species, Length: 150, dtype: object"
            ]
          },
          "metadata": {},
          "execution_count": 4
        }
      ]
    },
    {
      "cell_type": "markdown",
      "source": [
        "Define a function `sq_distances` with inputs `data` (a DataFrame of known Petal Lengths and Petal Widths), `length` and `width` (the Petal Length and Petal Width of an unknown flower). The function should return a Pandas series of squared distances from the unknown point to each point in `data`. Use Pandas and/or Numpy operations. DO NOT USE A FOR LOOP. "
      ],
      "metadata": {
        "id": "6bYC9dfkIAFP"
      }
    },
    {
      "cell_type": "code",
      "source": [
        "def sq_distances(data,length,width):\n",
        "  return (data['Petal.Width']-width)**2 + (data['Petal.Length']-length)**2\n",
        "\n"
      ],
      "metadata": {
        "id": "TzIIkOhYQe10"
      },
      "execution_count": null,
      "outputs": []
    },
    {
      "cell_type": "markdown",
      "source": [
        "Define a function `SpeciesOfKNeighbors` that gives the Species of the k nearest neighbors from the point with given Petal Length and Petal Width to the points in `data`. (The list of species for each point in `data` is contained in the Series `target`.)"
      ],
      "metadata": {
        "id": "FKIEAXtoJxSW"
      }
    },
    {
      "cell_type": "code",
      "source": [
        "def SpeciesOfKNeighbors(data,target,x,y,k):\n",
        "  return target.loc[sq_distances(data, x, y).sort_values()[0:k].index]\n",
        "print(SpeciesOfKNeighbors(data,target,1,1,3))"
      ],
      "metadata": {
        "id": "l0_thjk2RE6J",
        "colab": {
          "base_uri": "https://localhost:8080/"
        },
        "outputId": "7e43a1d2-6d15-44f6-f823-39a721ae7b33"
      },
      "execution_count": null,
      "outputs": [
        {
          "output_type": "stream",
          "name": "stdout",
          "text": [
            "17    setosa\n",
            "44    setosa\n",
            "42    setosa\n",
            "Name: Species, dtype: object\n"
          ]
        }
      ]
    },
    {
      "cell_type": "markdown",
      "source": [
        "Create a function `prediction` that takes a Pandas Series of labels, and returns the label that appears the most often. (Hint: The Pandas Series function `value_counts()` will be useful here."
      ],
      "metadata": {
        "id": "ZnODjzehKigo"
      }
    },
    {
      "cell_type": "code",
      "source": [
        "def prediction(labels):\n",
        "  return labels.value_counts().index[0]\n",
        "prediction(SpeciesOfKNeighbors(data,target,1,1,6))"
      ],
      "metadata": {
        "id": "gzc-_Hy2KyzD",
        "colab": {
          "base_uri": "https://localhost:8080/",
          "height": 35
        },
        "outputId": "8dd0854b-6479-40a1-99c6-765aa2abccd4"
      },
      "execution_count": null,
      "outputs": [
        {
          "output_type": "execute_result",
          "data": {
            "text/plain": [
              "'setosa'"
            ],
            "application/vnd.google.colaboratory.intrinsic+json": {
              "type": "string"
            }
          },
          "metadata": {},
          "execution_count": 12
        }
      ]
    },
    {
      "cell_type": "markdown",
      "source": [
        "Create a function `KNN` which takes a DataFrame `data` of known Petal Lengths and Petal Widths, a Series `target` containing their species, a hyperparameter `k`, and the `length` and `width` of the petal of an unknown flower. Your function should return the most common species among the k nearest neighbors of the unknown flower. "
      ],
      "metadata": {
        "id": "ad8XbXXzLR00"
      }
    },
    {
      "cell_type": "code",
      "source": [
        "def KNN(data,target,x,y,k):\n",
        "  #Generate list of sq distances \n",
        "  labels = SpeciesOfKNeighbors(data,target,x,y,k)\n",
        "  return prediction(labels)\n",
        "\n",
        "\n"
      ],
      "metadata": {
        "id": "DfDoFiIJLRUt"
      },
      "execution_count": null,
      "outputs": []
    },
    {
      "cell_type": "markdown",
      "source": [
        "Test your code here (it should return 'setosa'):"
      ],
      "metadata": {
        "id": "_KKdaog_5LQn"
      }
    },
    {
      "cell_type": "code",
      "source": [
        "KNN(data,target,1.4,0.2,3)"
      ],
      "metadata": {
        "id": "I_G3fcOE5K1G",
        "colab": {
          "base_uri": "https://localhost:8080/",
          "height": 35
        },
        "outputId": "6af2b410-07f5-47b0-ebda-ed9ef10e444b"
      },
      "execution_count": null,
      "outputs": [
        {
          "output_type": "execute_result",
          "data": {
            "text/plain": [
              "'setosa'"
            ],
            "application/vnd.google.colaboratory.intrinsic+json": {
              "type": "string"
            }
          },
          "metadata": {},
          "execution_count": 16
        }
      ]
    }
  ]
}