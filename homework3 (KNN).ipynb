{
  "nbformat": 4,
  "nbformat_minor": 0,
  "metadata": {
    "colab": {
      "provenance": [],
      "include_colab_link": true
    },
    "kernelspec": {
      "name": "python3",
      "display_name": "Python 3"
    },
    "language_info": {
      "name": "python"
    }
  },
  "cells": [
    {
      "cell_type": "markdown",
      "metadata": {
        "id": "view-in-github",
        "colab_type": "text"
      },
      "source": [
        "<a href=\"https://colab.research.google.com/github/milesba4/CS158-ML/blob/main/homework3%20(KNN).ipynb\" target=\"_parent\"><img src=\"https://colab.research.google.com/assets/colab-badge.svg\" alt=\"Open In Colab\"/></a>"
      ]
    },
    {
      "cell_type": "markdown",
      "source": [
        "**Homework 3**"
      ],
      "metadata": {
        "id": "G8OReEGoBUyY"
      }
    },
    {
      "cell_type": "markdown",
      "source": [
        "This assignment is a continuation of homework 2. Make sure you complete that first!. \n",
        "\n",
        "We begin with the usual imports."
      ],
      "metadata": {
        "id": "BxOCrr74BYky"
      }
    },
    {
      "cell_type": "code",
      "execution_count": null,
      "metadata": {
        "id": "nyeQSz7hP6MN"
      },
      "outputs": [],
      "source": [
        "import numpy as np\n",
        "import pandas as pd"
      ]
    },
    {
      "cell_type": "markdown",
      "source": [
        "Now load the iris dataset."
      ],
      "metadata": {
        "id": "ENoFBgC2Bcvt"
      }
    },
    {
      "cell_type": "code",
      "source": [
        "iris=pd.read_csv(\"https://vincentarelbundock.github.io/Rdatasets/csv/datasets/iris.csv\",index_col=0)"
      ],
      "metadata": {
        "id": "5pStLgrIQCQu"
      },
      "execution_count": null,
      "outputs": []
    },
    {
      "cell_type": "markdown",
      "source": [
        "In the code block below copy your code from homework 2 that defines the function `KNN`, together with all of the helper functions."
      ],
      "metadata": {
        "id": "GBdJliDCOEIV"
      }
    },
    {
      "cell_type": "code",
      "source": [
        "target = iris.Species \n",
        "#Generate list of sq distances \n",
        "def sq_distances(data,length,width):\n",
        "  return(((data[\"Petal.Length\"]-length)**2) + ((data[\"Petal.Width\"]-width)**2))\n",
        "#Extract Species of nearest K neighbors\n",
        "def SpeciesOfKNeighbors(data,target,x,y,k):\n",
        "  return(target.loc[sq_distances(data,x,y).sort_values().iloc[0:k].index])\n",
        "#Extract most common species of closest K neigbors\n",
        "def prediction(labels):\n",
        "  return(labels.value_counts().sort_values().index[0])\n",
        "#Return prediction\n",
        "def KNN(data,target,x,y,k):\n",
        "  distances = sq_distances(data,x,y)\n",
        "  labels = SpeciesOfKNeighbors(data,target,x,y,k)\n",
        "  return prediction(labels)\n"
      ],
      "metadata": {
        "id": "ftP1j3YeOV8J"
      },
      "execution_count": null,
      "outputs": []
    },
    {
      "cell_type": "markdown",
      "source": [
        "The iris dataset contains 150 observations. We'd like to set aside 20% of these for testing the accuracy of our model(s). In the code block below, we create a Numpy array `test_indices` with a random sample of 20% of the numbers from 0 to 149. Then, we create a boolean Numpy array with a value of True for each index listed in `test_indices`, and False for the other values. Finally, we create a boolean Numpy array `train_mask` with the negation of each entry in `test_mask`. Spend some time examining the commands in the code block to make sure you understand them."
      ],
      "metadata": {
        "id": "Z74yJjWgBmx6"
      }
    },
    {
      "cell_type": "code",
      "source": [
        "np.random.seed(6) #controls randomness. Do not change!\n",
        "size=len(iris)  #size of original dataset (should be 150 for iris)\n",
        "test_frac=0.2 #fraction of dataset to set aside for testing\n",
        "test_size=int(size*test_frac) #desired size of test dataset \n",
        "test_indices=np.random.choice(np.arange(size),test_size) #random sample of indices from iris\n",
        "test_mask=np.zeros(size,dtype=bool) #numpy array of False values\n",
        "test_mask[test_indices]=True #change values at desired indices to True\n",
        "train_mask=~test_mask #True->False, False->True\n",
        "test_mask"
      ],
      "metadata": {
        "id": "5flT2IxHCFIp",
        "colab": {
          "base_uri": "https://localhost:8080/"
        },
        "outputId": "c809a9c3-57f4-4829-e783-3b82e19e69c8"
      },
      "execution_count": null,
      "outputs": [
        {
          "output_type": "execute_result",
          "data": {
            "text/plain": [
              "array([False,  True, False, False, False, False, False, False,  True,\n",
              "       False, False, False, False, False, False,  True, False, False,\n",
              "       False, False, False, False, False, False, False,  True,  True,\n",
              "       False, False, False, False,  True, False, False, False, False,\n",
              "       False, False, False, False, False, False, False, False, False,\n",
              "       False, False, False, False, False, False, False, False, False,\n",
              "       False, False, False, False, False, False, False, False,  True,\n",
              "        True, False, False,  True, False,  True, False, False, False,\n",
              "       False, False, False,  True, False,  True, False,  True,  True,\n",
              "       False, False, False, False,  True,  True, False, False, False,\n",
              "       False, False, False, False, False, False, False, False, False,\n",
              "       False, False, False, False, False, False, False,  True, False,\n",
              "       False,  True,  True, False, False, False,  True, False, False,\n",
              "       False, False, False, False, False, False, False, False,  True,\n",
              "       False,  True, False, False,  True, False,  True,  True, False,\n",
              "       False, False, False,  True, False, False, False, False, False,\n",
              "       False, False, False,  True, False, False])"
            ]
          },
          "metadata": {},
          "execution_count": 8
        }
      ]
    },
    {
      "cell_type": "markdown",
      "source": [
        "Define `test_data` to be a DataFrame containing the `Petal.Length` and `Petal.Width` of the rows specified by `test_mask`. Define `test_target` to be a Pandas Series containing the `Species` of those rows. Define `train_data` and `train_target` similarly. "
      ],
      "metadata": {
        "id": "NFTIGfRwFqfM"
      }
    },
    {
      "cell_type": "code",
      "source": [
        "train_data=iris[train_mask[iris.index-1]==True]\n",
        "train_target=train_data[\"Species\"]\n",
        "test_data=iris[test_mask[iris.index-1]==True]\n",
        "test_target=test_data[\"Species\"]\n",
        "test_data\n"
      ],
      "metadata": {
        "id": "IGRadmhsE25D",
        "colab": {
          "base_uri": "https://localhost:8080/",
          "height": 896
        },
        "outputId": "6b93b69a-52f7-4095-ae4c-c9b6ceb3922c"
      },
      "execution_count": null,
      "outputs": [
        {
          "output_type": "execute_result",
          "data": {
            "text/plain": [
              "     Sepal.Length  Sepal.Width  Petal.Length  Petal.Width     Species\n",
              "2             4.9          3.0           1.4          0.2      setosa\n",
              "9             4.4          2.9           1.4          0.2      setosa\n",
              "16            5.7          4.4           1.5          0.4      setosa\n",
              "26            5.0          3.0           1.6          0.2      setosa\n",
              "27            5.0          3.4           1.6          0.4      setosa\n",
              "32            5.4          3.4           1.5          0.4      setosa\n",
              "63            6.0          2.2           4.0          1.0  versicolor\n",
              "64            6.1          2.9           4.7          1.4  versicolor\n",
              "67            5.6          3.0           4.5          1.5  versicolor\n",
              "69            6.2          2.2           4.5          1.5  versicolor\n",
              "76            6.6          3.0           4.4          1.4  versicolor\n",
              "78            6.7          3.0           5.0          1.7  versicolor\n",
              "80            5.7          2.6           3.5          1.0  versicolor\n",
              "81            5.5          2.4           3.8          1.1  versicolor\n",
              "86            6.0          3.4           4.5          1.6  versicolor\n",
              "87            6.7          3.1           4.7          1.5  versicolor\n",
              "107           4.9          2.5           4.5          1.7   virginica\n",
              "110           7.2          3.6           6.1          2.5   virginica\n",
              "111           6.5          3.2           5.1          2.0   virginica\n",
              "115           5.8          2.8           5.1          2.4   virginica\n",
              "126           7.2          3.2           6.0          1.8   virginica\n",
              "128           6.1          3.0           4.9          1.8   virginica\n",
              "131           7.4          2.8           6.1          1.9   virginica\n",
              "133           6.4          2.8           5.6          2.2   virginica\n",
              "134           6.3          2.8           5.1          1.5   virginica\n",
              "139           6.0          3.0           4.8          1.8   virginica\n",
              "148           6.5          3.0           5.2          2.0   virginica"
            ],
            "text/html": [
              "\n",
              "  <div id=\"df-6aa74d77-746f-497e-97fd-cc3c06a9053e\">\n",
              "    <div class=\"colab-df-container\">\n",
              "      <div>\n",
              "<style scoped>\n",
              "    .dataframe tbody tr th:only-of-type {\n",
              "        vertical-align: middle;\n",
              "    }\n",
              "\n",
              "    .dataframe tbody tr th {\n",
              "        vertical-align: top;\n",
              "    }\n",
              "\n",
              "    .dataframe thead th {\n",
              "        text-align: right;\n",
              "    }\n",
              "</style>\n",
              "<table border=\"1\" class=\"dataframe\">\n",
              "  <thead>\n",
              "    <tr style=\"text-align: right;\">\n",
              "      <th></th>\n",
              "      <th>Sepal.Length</th>\n",
              "      <th>Sepal.Width</th>\n",
              "      <th>Petal.Length</th>\n",
              "      <th>Petal.Width</th>\n",
              "      <th>Species</th>\n",
              "    </tr>\n",
              "  </thead>\n",
              "  <tbody>\n",
              "    <tr>\n",
              "      <th>2</th>\n",
              "      <td>4.9</td>\n",
              "      <td>3.0</td>\n",
              "      <td>1.4</td>\n",
              "      <td>0.2</td>\n",
              "      <td>setosa</td>\n",
              "    </tr>\n",
              "    <tr>\n",
              "      <th>9</th>\n",
              "      <td>4.4</td>\n",
              "      <td>2.9</td>\n",
              "      <td>1.4</td>\n",
              "      <td>0.2</td>\n",
              "      <td>setosa</td>\n",
              "    </tr>\n",
              "    <tr>\n",
              "      <th>16</th>\n",
              "      <td>5.7</td>\n",
              "      <td>4.4</td>\n",
              "      <td>1.5</td>\n",
              "      <td>0.4</td>\n",
              "      <td>setosa</td>\n",
              "    </tr>\n",
              "    <tr>\n",
              "      <th>26</th>\n",
              "      <td>5.0</td>\n",
              "      <td>3.0</td>\n",
              "      <td>1.6</td>\n",
              "      <td>0.2</td>\n",
              "      <td>setosa</td>\n",
              "    </tr>\n",
              "    <tr>\n",
              "      <th>27</th>\n",
              "      <td>5.0</td>\n",
              "      <td>3.4</td>\n",
              "      <td>1.6</td>\n",
              "      <td>0.4</td>\n",
              "      <td>setosa</td>\n",
              "    </tr>\n",
              "    <tr>\n",
              "      <th>32</th>\n",
              "      <td>5.4</td>\n",
              "      <td>3.4</td>\n",
              "      <td>1.5</td>\n",
              "      <td>0.4</td>\n",
              "      <td>setosa</td>\n",
              "    </tr>\n",
              "    <tr>\n",
              "      <th>63</th>\n",
              "      <td>6.0</td>\n",
              "      <td>2.2</td>\n",
              "      <td>4.0</td>\n",
              "      <td>1.0</td>\n",
              "      <td>versicolor</td>\n",
              "    </tr>\n",
              "    <tr>\n",
              "      <th>64</th>\n",
              "      <td>6.1</td>\n",
              "      <td>2.9</td>\n",
              "      <td>4.7</td>\n",
              "      <td>1.4</td>\n",
              "      <td>versicolor</td>\n",
              "    </tr>\n",
              "    <tr>\n",
              "      <th>67</th>\n",
              "      <td>5.6</td>\n",
              "      <td>3.0</td>\n",
              "      <td>4.5</td>\n",
              "      <td>1.5</td>\n",
              "      <td>versicolor</td>\n",
              "    </tr>\n",
              "    <tr>\n",
              "      <th>69</th>\n",
              "      <td>6.2</td>\n",
              "      <td>2.2</td>\n",
              "      <td>4.5</td>\n",
              "      <td>1.5</td>\n",
              "      <td>versicolor</td>\n",
              "    </tr>\n",
              "    <tr>\n",
              "      <th>76</th>\n",
              "      <td>6.6</td>\n",
              "      <td>3.0</td>\n",
              "      <td>4.4</td>\n",
              "      <td>1.4</td>\n",
              "      <td>versicolor</td>\n",
              "    </tr>\n",
              "    <tr>\n",
              "      <th>78</th>\n",
              "      <td>6.7</td>\n",
              "      <td>3.0</td>\n",
              "      <td>5.0</td>\n",
              "      <td>1.7</td>\n",
              "      <td>versicolor</td>\n",
              "    </tr>\n",
              "    <tr>\n",
              "      <th>80</th>\n",
              "      <td>5.7</td>\n",
              "      <td>2.6</td>\n",
              "      <td>3.5</td>\n",
              "      <td>1.0</td>\n",
              "      <td>versicolor</td>\n",
              "    </tr>\n",
              "    <tr>\n",
              "      <th>81</th>\n",
              "      <td>5.5</td>\n",
              "      <td>2.4</td>\n",
              "      <td>3.8</td>\n",
              "      <td>1.1</td>\n",
              "      <td>versicolor</td>\n",
              "    </tr>\n",
              "    <tr>\n",
              "      <th>86</th>\n",
              "      <td>6.0</td>\n",
              "      <td>3.4</td>\n",
              "      <td>4.5</td>\n",
              "      <td>1.6</td>\n",
              "      <td>versicolor</td>\n",
              "    </tr>\n",
              "    <tr>\n",
              "      <th>87</th>\n",
              "      <td>6.7</td>\n",
              "      <td>3.1</td>\n",
              "      <td>4.7</td>\n",
              "      <td>1.5</td>\n",
              "      <td>versicolor</td>\n",
              "    </tr>\n",
              "    <tr>\n",
              "      <th>107</th>\n",
              "      <td>4.9</td>\n",
              "      <td>2.5</td>\n",
              "      <td>4.5</td>\n",
              "      <td>1.7</td>\n",
              "      <td>virginica</td>\n",
              "    </tr>\n",
              "    <tr>\n",
              "      <th>110</th>\n",
              "      <td>7.2</td>\n",
              "      <td>3.6</td>\n",
              "      <td>6.1</td>\n",
              "      <td>2.5</td>\n",
              "      <td>virginica</td>\n",
              "    </tr>\n",
              "    <tr>\n",
              "      <th>111</th>\n",
              "      <td>6.5</td>\n",
              "      <td>3.2</td>\n",
              "      <td>5.1</td>\n",
              "      <td>2.0</td>\n",
              "      <td>virginica</td>\n",
              "    </tr>\n",
              "    <tr>\n",
              "      <th>115</th>\n",
              "      <td>5.8</td>\n",
              "      <td>2.8</td>\n",
              "      <td>5.1</td>\n",
              "      <td>2.4</td>\n",
              "      <td>virginica</td>\n",
              "    </tr>\n",
              "    <tr>\n",
              "      <th>126</th>\n",
              "      <td>7.2</td>\n",
              "      <td>3.2</td>\n",
              "      <td>6.0</td>\n",
              "      <td>1.8</td>\n",
              "      <td>virginica</td>\n",
              "    </tr>\n",
              "    <tr>\n",
              "      <th>128</th>\n",
              "      <td>6.1</td>\n",
              "      <td>3.0</td>\n",
              "      <td>4.9</td>\n",
              "      <td>1.8</td>\n",
              "      <td>virginica</td>\n",
              "    </tr>\n",
              "    <tr>\n",
              "      <th>131</th>\n",
              "      <td>7.4</td>\n",
              "      <td>2.8</td>\n",
              "      <td>6.1</td>\n",
              "      <td>1.9</td>\n",
              "      <td>virginica</td>\n",
              "    </tr>\n",
              "    <tr>\n",
              "      <th>133</th>\n",
              "      <td>6.4</td>\n",
              "      <td>2.8</td>\n",
              "      <td>5.6</td>\n",
              "      <td>2.2</td>\n",
              "      <td>virginica</td>\n",
              "    </tr>\n",
              "    <tr>\n",
              "      <th>134</th>\n",
              "      <td>6.3</td>\n",
              "      <td>2.8</td>\n",
              "      <td>5.1</td>\n",
              "      <td>1.5</td>\n",
              "      <td>virginica</td>\n",
              "    </tr>\n",
              "    <tr>\n",
              "      <th>139</th>\n",
              "      <td>6.0</td>\n",
              "      <td>3.0</td>\n",
              "      <td>4.8</td>\n",
              "      <td>1.8</td>\n",
              "      <td>virginica</td>\n",
              "    </tr>\n",
              "    <tr>\n",
              "      <th>148</th>\n",
              "      <td>6.5</td>\n",
              "      <td>3.0</td>\n",
              "      <td>5.2</td>\n",
              "      <td>2.0</td>\n",
              "      <td>virginica</td>\n",
              "    </tr>\n",
              "  </tbody>\n",
              "</table>\n",
              "</div>\n",
              "      <button class=\"colab-df-convert\" onclick=\"convertToInteractive('df-6aa74d77-746f-497e-97fd-cc3c06a9053e')\"\n",
              "              title=\"Convert this dataframe to an interactive table.\"\n",
              "              style=\"display:none;\">\n",
              "        \n",
              "  <svg xmlns=\"http://www.w3.org/2000/svg\" height=\"24px\"viewBox=\"0 0 24 24\"\n",
              "       width=\"24px\">\n",
              "    <path d=\"M0 0h24v24H0V0z\" fill=\"none\"/>\n",
              "    <path d=\"M18.56 5.44l.94 2.06.94-2.06 2.06-.94-2.06-.94-.94-2.06-.94 2.06-2.06.94zm-11 1L8.5 8.5l.94-2.06 2.06-.94-2.06-.94L8.5 2.5l-.94 2.06-2.06.94zm10 10l.94 2.06.94-2.06 2.06-.94-2.06-.94-.94-2.06-.94 2.06-2.06.94z\"/><path d=\"M17.41 7.96l-1.37-1.37c-.4-.4-.92-.59-1.43-.59-.52 0-1.04.2-1.43.59L10.3 9.45l-7.72 7.72c-.78.78-.78 2.05 0 2.83L4 21.41c.39.39.9.59 1.41.59.51 0 1.02-.2 1.41-.59l7.78-7.78 2.81-2.81c.8-.78.8-2.07 0-2.86zM5.41 20L4 18.59l7.72-7.72 1.47 1.35L5.41 20z\"/>\n",
              "  </svg>\n",
              "      </button>\n",
              "      \n",
              "  <style>\n",
              "    .colab-df-container {\n",
              "      display:flex;\n",
              "      flex-wrap:wrap;\n",
              "      gap: 12px;\n",
              "    }\n",
              "\n",
              "    .colab-df-convert {\n",
              "      background-color: #E8F0FE;\n",
              "      border: none;\n",
              "      border-radius: 50%;\n",
              "      cursor: pointer;\n",
              "      display: none;\n",
              "      fill: #1967D2;\n",
              "      height: 32px;\n",
              "      padding: 0 0 0 0;\n",
              "      width: 32px;\n",
              "    }\n",
              "\n",
              "    .colab-df-convert:hover {\n",
              "      background-color: #E2EBFA;\n",
              "      box-shadow: 0px 1px 2px rgba(60, 64, 67, 0.3), 0px 1px 3px 1px rgba(60, 64, 67, 0.15);\n",
              "      fill: #174EA6;\n",
              "    }\n",
              "\n",
              "    [theme=dark] .colab-df-convert {\n",
              "      background-color: #3B4455;\n",
              "      fill: #D2E3FC;\n",
              "    }\n",
              "\n",
              "    [theme=dark] .colab-df-convert:hover {\n",
              "      background-color: #434B5C;\n",
              "      box-shadow: 0px 1px 3px 1px rgba(0, 0, 0, 0.15);\n",
              "      filter: drop-shadow(0px 1px 2px rgba(0, 0, 0, 0.3));\n",
              "      fill: #FFFFFF;\n",
              "    }\n",
              "  </style>\n",
              "\n",
              "      <script>\n",
              "        const buttonEl =\n",
              "          document.querySelector('#df-6aa74d77-746f-497e-97fd-cc3c06a9053e button.colab-df-convert');\n",
              "        buttonEl.style.display =\n",
              "          google.colab.kernel.accessAllowed ? 'block' : 'none';\n",
              "\n",
              "        async function convertToInteractive(key) {\n",
              "          const element = document.querySelector('#df-6aa74d77-746f-497e-97fd-cc3c06a9053e');\n",
              "          const dataTable =\n",
              "            await google.colab.kernel.invokeFunction('convertToInteractive',\n",
              "                                                     [key], {});\n",
              "          if (!dataTable) return;\n",
              "\n",
              "          const docLinkHtml = 'Like what you see? Visit the ' +\n",
              "            '<a target=\"_blank\" href=https://colab.research.google.com/notebooks/data_table.ipynb>data table notebook</a>'\n",
              "            + ' to learn more about interactive tables.';\n",
              "          element.innerHTML = '';\n",
              "          dataTable['output_type'] = 'display_data';\n",
              "          await google.colab.output.renderOutput(dataTable, element);\n",
              "          const docLink = document.createElement('div');\n",
              "          docLink.innerHTML = docLinkHtml;\n",
              "          element.appendChild(docLink);\n",
              "        }\n",
              "      </script>\n",
              "    </div>\n",
              "  </div>\n",
              "  "
            ]
          },
          "metadata": {},
          "execution_count": 58
        }
      ]
    },
    {
      "cell_type": "markdown",
      "source": [
        "Define a function called `predict_labels` whose inputs are `train_data`, `train_target`, `test_data` and `k`. Your function should output a Series of labels (one for each entry in `test_data`) that are predicted by your KNN function, based on the k-closest points in train_data. \n",
        "\n",
        "*Hints.* There are many ways to do this. Here are two possibilities:\n",
        "1. Use the Pandas command `apply` and a lambda function. (strongly preferred)\n",
        "2. Use a \"for loop\", collect your answers in a list, and then convert to a Pandas Series object."
      ],
      "metadata": {
        "id": "N12LgAjPvPvv"
      }
    },
    {
      "cell_type": "code",
      "source": [
        "def predict_labels(train_data,train_target,test_data,k):\n",
        "   return(test_data.apply(lambda row: KNN(train_data,train_target,row[2],row[3],k),axis=1))\n",
        "\n",
        "predict_labels(train_data,train_target,test_data, 5)"
      ],
      "metadata": {
        "id": "ISuM05KzwV1v",
        "colab": {
          "base_uri": "https://localhost:8080/"
        },
        "outputId": "d98c097e-c720-402f-a2ff-42b0e7dd8310"
      },
      "execution_count": null,
      "outputs": [
        {
          "output_type": "execute_result",
          "data": {
            "text/plain": [
              "2          setosa\n",
              "9          setosa\n",
              "16         setosa\n",
              "26         setosa\n",
              "27         setosa\n",
              "32         setosa\n",
              "63     versicolor\n",
              "64     versicolor\n",
              "67     versicolor\n",
              "69     versicolor\n",
              "76     versicolor\n",
              "78     versicolor\n",
              "80     versicolor\n",
              "81     versicolor\n",
              "86     versicolor\n",
              "87     versicolor\n",
              "107    versicolor\n",
              "110     virginica\n",
              "111     virginica\n",
              "115     virginica\n",
              "126     virginica\n",
              "128    versicolor\n",
              "131     virginica\n",
              "133     virginica\n",
              "134     virginica\n",
              "139    versicolor\n",
              "148     virginica\n",
              "dtype: object"
            ]
          },
          "metadata": {},
          "execution_count": 60
        }
      ]
    },
    {
      "cell_type": "markdown",
      "source": [
        "Define a function called `accuracy` whose inputs are `train_data`, `train_target`, `test_data`, `test_target` and `k`. Your function should return the accuracy: the fraction of times your `predict_labels` function returned the correct answer."
      ],
      "metadata": {
        "id": "iSyTNqCMxrGk"
      }
    },
    {
      "cell_type": "code",
      "source": [
        "def accuracy(train_data,train_target,test_data,test_target,k):\n",
        "  #number of correct entries\n",
        "  acc_series = pd.Series()\n",
        "  acc_series['Accuracy'] = np.where(test_target == predict_labels(train_data,train_target,test_data, k), 0, 1) \n",
        "  num_acc = sum(acc_series.iloc[0])\n",
        "  accuracy = num_acc/ len(test_data)\n",
        "  return accuracy\n",
        "accuracy(train_data,train_target,test_data,test_target,5)"
      ],
      "metadata": {
        "id": "z5vca56CVZqz",
        "colab": {
          "base_uri": "https://localhost:8080/"
        },
        "outputId": "4f25f5e0-269e-42ee-f6d2-c06d4f774ae5"
      },
      "execution_count": null,
      "outputs": [
        {
          "output_type": "stream",
          "name": "stderr",
          "text": [
            "<ipython-input-85-6ad7471e1ce4>:3: DeprecationWarning: The default dtype for empty Series will be 'object' instead of 'float64' in a future version. Specify a dtype explicitly to silence this warning.\n",
            "  acc_series = pd.Series()\n"
          ]
        },
        {
          "output_type": "execute_result",
          "data": {
            "text/plain": [
              "0.1111111111111111"
            ]
          },
          "metadata": {},
          "execution_count": 85
        }
      ]
    },
    {
      "cell_type": "markdown",
      "source": [
        "Our goal is to visualize the accuracy of our KNN algorithm for various values of k, so we may pick the best one. Reasonable values of k start at 3, and may go as high as 20 (depending on the application). For each such value of k, compute the accuracy and assemble these in a 1D Numpy array."
      ],
      "metadata": {
        "id": "fsg8NrNU0Z53"
      }
    },
    {
      "cell_type": "code",
      "source": [
        "k_values=np.arange(3,20) #possible values for k\n",
        "\n",
        "accuracies=np.array([accuracy(train_data,train_target,test_data,test_target,x) for x in k_values])\n",
        "accuracies"
      ],
      "metadata": {
        "id": "bFk975Zms6nl",
        "colab": {
          "base_uri": "https://localhost:8080/"
        },
        "outputId": "ae16ac6d-74e5-44aa-b341-57415a4900d5"
      },
      "execution_count": null,
      "outputs": [
        {
          "output_type": "stream",
          "name": "stderr",
          "text": [
            "<ipython-input-80-e0a608cfd184>:3: DeprecationWarning: The default dtype for empty Series will be 'object' instead of 'float64' in a future version. Specify a dtype explicitly to silence this warning.\n",
            "  acc_series = pd.Series()\n"
          ]
        },
        {
          "output_type": "execute_result",
          "data": {
            "text/plain": [
              "array([0.11111111, 0.11111111, 0.11111111, 0.07407407, 0.07407407,\n",
              "       0.07407407, 0.11111111, 0.07407407, 0.07407407, 0.11111111,\n",
              "       0.22222222, 0.18518519, 0.22222222, 0.22222222, 0.22222222,\n",
              "       0.25925926, 0.25925926])"
            ]
          },
          "metadata": {},
          "execution_count": 81
        }
      ]
    },
    {
      "cell_type": "markdown",
      "source": [
        "Run the following code block to visualize:"
      ],
      "metadata": {
        "id": "7VcxngjC19Pt"
      }
    },
    {
      "cell_type": "code",
      "source": [
        "import matplotlib.pyplot as plt\n",
        "plt.plot(k_values,accuracies)"
      ],
      "metadata": {
        "id": "5H_tVLXWtBUC",
        "colab": {
          "base_uri": "https://localhost:8080/",
          "height": 283
        },
        "outputId": "9f3e6ea4-08d1-4b41-b336-659d03b7cb04"
      },
      "execution_count": null,
      "outputs": [
        {
          "output_type": "execute_result",
          "data": {
            "text/plain": [
              "[<matplotlib.lines.Line2D at 0x7fe97cb1e0d0>]"
            ]
          },
          "metadata": {},
          "execution_count": 82
        },
        {
          "output_type": "display_data",
          "data": {
            "text/plain": [
              "<Figure size 432x288 with 1 Axes>"
            ],
            "image/png": "[encoded data removed]"
          },
          "metadata": {
            "needs_background": "light"
          }
        }
      ]
    },
    {
      "cell_type": "markdown",
      "source": [
        "The optimal value of k will be the first odd number appearing at a maximum (think about why). What is it? "
      ],
      "metadata": {
        "id": "JxPJWw43z8ZG"
      }
    },
    {
      "cell_type": "code",
      "source": [
        "k=5"
      ],
      "metadata": {
        "id": "InnWAMB_tUBb"
      },
      "execution_count": null,
      "outputs": []
    }
  ]
}