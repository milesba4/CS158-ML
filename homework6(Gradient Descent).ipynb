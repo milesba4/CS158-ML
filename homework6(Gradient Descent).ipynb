{
  "nbformat": 4,
  "nbformat_minor": 0,
  "metadata": {
    "colab": {
      "provenance": [],
      "include_colab_link": true
    },
    "kernelspec": {
      "name": "python3",
      "display_name": "Python 3"
    },
    "language_info": {
      "name": "python"
    }
  },
  "cells": [
    {
      "cell_type": "markdown",
      "metadata": {
        "id": "view-in-github",
        "colab_type": "text"
      },
      "source": [
        "<a href=\"https://colab.research.google.com/github/milesba4/CS158-ML/blob/main/homework6(Gradient%20Descent).ipynb\" target=\"_parent\"><img src=\"https://colab.research.google.com/assets/colab-badge.svg\" alt=\"Open In Colab\"/></a>"
      ]
    },
    {
      "cell_type": "markdown",
      "source": [
        "**Homework 6**\n"
      ],
      "metadata": {
        "id": "umOGtyvwIkHc"
      }
    },
    {
      "cell_type": "code",
      "source": [
        "import pandas as pd\n",
        "import numpy as np"
      ],
      "metadata": {
        "id": "XpvEjDuYFCyT"
      },
      "execution_count": null,
      "outputs": []
    },
    {
      "cell_type": "markdown",
      "source": [
        "*Problem 1.*\n",
        "\n",
        "Let $f(x,y)=x^2+2xy+2y^2-4x-4y$.\n",
        "\n",
        "Calculate  $\\nabla f(x,y)$, the gradient of $f(x,y)$ on paper. (No need to turn this in, but you'll need it for the next parts of the problem.) In this problem you will use the gradient to find the minimum of $f(x,y)$. Do this first on paper by setting the gradient equal to $\\langle 0,0 \\rangle$ and solving for $x$ and $y$, so you can check that gradient descent is giving you the right answer. \n"
      ],
      "metadata": {
        "id": "RS-AZd9pm_Tz"
      }
    },
    {
      "cell_type": "markdown",
      "source": [
        "Next, write a function fGD which implements gradient descent to find the minimum of $f(x,y)$. Your function should take in the following parameters: \n",
        "* `lr` (learning rate) \n",
        "* `max_iter` (maximum number of iterations)\n",
        "* `x_init` (initial value of x)\n",
        "* `y_init` (initial value of y)\n",
        "\n",
        "Your function should return the final values of x and y"
      ],
      "metadata": {
        "id": "umsYAkZmvVBR"
      }
    },
    {
      "cell_type": "code",
      "source": [
        "def fGD(lr,max_iter,x_init,y_init):\n",
        "  x=x_init\n",
        "  y=y_init\n",
        "  for i in range(max_iter):\n",
        "    x_temp=x_init\n",
        "    x_init= x-lr*((2* x_init)+ (2* y_init)-4)\n",
        "    y_init= y-lr*((2* x_temp)+ (4* y_init)-4)\n",
        "    x=x_init\n",
        "    y=y_init\n",
        "  return x,y"
      ],
      "metadata": {
        "id": "cEKOmSpauW1B"
      },
      "execution_count": null,
      "outputs": []
    },
    {
      "cell_type": "markdown",
      "source": [
        "Now run this to check you answer. Is it what you expect?"
      ],
      "metadata": {
        "id": "zYdzKXo_AdlG"
      }
    },
    {
      "cell_type": "code",
      "source": [
        "fGD(0.0001,10000,5,5) "
      ],
      "metadata": {
        "id": "0Zbn9zJjveXE",
        "colab": {
          "base_uri": "https://localhost:8080/"
        },
        "outputId": "461a17e1-46f2-43ae-c414-2e34958746a5"
      },
      "execution_count": null,
      "outputs": [
        {
          "output_type": "execute_result",
          "data": {
            "text/plain": [
              "(1.9858947847209645, 0.045139149713967715)"
            ]
          },
          "metadata": {},
          "execution_count": 51
        }
      ]
    },
    {
      "cell_type": "markdown",
      "source": [
        "*Problem 2*\n",
        "\n",
        "Write a function GD which implements gradient descent to find the slope `m` and intercept `b` for a linear model relating a numpy array y to a numpy array x. \n",
        "\n",
        "Your function should take in the following parameters: \n",
        "* x (A numpy array of values)\n",
        "* y (The target numpy array of values)\n",
        "* `lr` (learning rate) \n",
        "* `max_iter` (maximum number of iterations)\n",
        "* `m_init` (initial slope)\n",
        "* `b_init` (initial intercept)\n",
        "\n",
        "Your function should return the slope and intercept found by gradient descent. "
      ],
      "metadata": {
        "id": "wMcg2Z8uyu3Y"
      }
    },
    {
      "cell_type": "code",
      "source": [
        "def GD(x,y,lr,max_iter,m_init,b_init):\n",
        "  m=m_init\n",
        "  b=b_init\n",
        "  for i in range(max_iter):\n",
        "    grad_RSS_w_m=np.sum(2*(m*x+b-y)*x)\n",
        "    grad_RSS_w_b=np.sum(2*(m*x+b-y))\n",
        "    m_init= m-(lr*(grad_RSS_w_m))\n",
        "    b_init= b-(lr*( grad_RSS_w_b))\n",
        "    m=m_init\n",
        "    b=b_init\n",
        "  return m,b"
      ],
      "metadata": {
        "id": "kq4aa92N9IHy"
      },
      "execution_count": null,
      "outputs": []
    },
    {
      "cell_type": "markdown",
      "source": [
        "You can test your code here. Is the result close to what you would expect?"
      ],
      "metadata": {
        "id": "Fr5dUFRiFFNR"
      }
    },
    {
      "cell_type": "code",
      "source": [
        "x=np.arange(10)\n",
        "y=3*x+2\n",
        "GD(x,y,.001,1000,1,1)"
      ],
      "metadata": {
        "id": "qQiQErqKFM3H",
        "colab": {
          "base_uri": "https://localhost:8080/"
        },
        "outputId": "e96c0217-302e-4019-a7b8-75c6d5611f6e"
      },
      "execution_count": null,
      "outputs": [
        {
          "output_type": "execute_result",
          "data": {
            "text/plain": [
              "(3.000367648608427, 1.9976946278405756)"
            ]
          },
          "metadata": {},
          "execution_count": 69
        }
      ]
    },
    {
      "cell_type": "markdown",
      "source": [
        "Problem 3. \n",
        "\n",
        "Recall the speed vs distance modification of the `flights` dataset we created in Homework 5:"
      ],
      "metadata": {
        "id": "WsRtlWbw37tP"
      }
    },
    {
      "cell_type": "code",
      "execution_count": null,
      "metadata": {
        "id": "yQGriOppA32Z"
      },
      "outputs": [],
      "source": [
        "flights=pd.read_csv(\"https://vincentarelbundock.github.io/Rdatasets/csv/nycflights13/flights.csv\")\n",
        "flights=(\n",
        "    flights[['tailnum','distance','air_time']][pd.notna(flights['air_time'])].\n",
        "    assign(speed=lambda x:60*x.distance/x.air_time).\n",
        "    groupby('tailnum').\n",
        "    agg('mean').\n",
        "    sort_values('distance',ascending=False)[32:]\n",
        ")"
      ]
    },
    {
      "cell_type": "markdown",
      "source": [
        "To make things a little easier, we'll define separate `distance` and `speed` arrays:"
      ],
      "metadata": {
        "id": "iwXDaWM-F6zu"
      }
    },
    {
      "cell_type": "code",
      "source": [
        "distance=np.array(flights.distance)\n",
        "speed=np.array(flights.speed)"
      ],
      "metadata": {
        "id": "bqkI_VYrGCH-"
      },
      "execution_count": null,
      "outputs": []
    },
    {
      "cell_type": "markdown",
      "source": [
        "In Homework 5 you created a linear model of `speed` vs `distance` using the normal equations, and should have ended up with an RSS of about 1843267. The normal equations guarantee that this is the best possible, but for larger datasets they can be very slow to implement. \n",
        "\n",
        "In this problem you will do this again using the GD function defined in the previous problem. Unfortunately, just applying this to x=distance and y=speed may not work, since distance and speed are on such different scales. To compensate, first write a function with inputs x, y, lr, max_iter, m_init, and b_init that does the following:\n",
        "\n",
        "1. Rescales the input values of x and y to obtain arrays of values x_scaled and y_scaled between 0 and 1\n",
        "2. Calls GD on x_scaled, y_scaled, lr, max_iter, m_init, and b_init\n",
        "3. Uses the resulting slope and intercept to find values pred_scaled from x_scaled\n",
        "4. Returns re-scaled values of pred_scaled spo that the resulting array is a linear approximation of y. \n"
      ],
      "metadata": {
        "id": "AQNgb1oT4a0T"
      }
    },
    {
      "cell_type": "code",
      "source": [
        "def PredictWithRescaling(x,y,lr,max_iter,m_init,b_init):\n",
        "  x_scaled = ((x-min(x))/(max(x)-min(x)))\n",
        "  y_scaled = ((y-min(y))/(max(y)-min(y)))\n",
        "  m,b=GD(x_scaled,y_scaled,lr,max_iter,m_init,b_init)\n",
        "  pred_scaled=m*x_scaled+b\n",
        "  result = pred_scaled*(max(y)-min(y))+min(y)\n",
        "  return result\n",
        "PredictWithRescaling(distance,speed,0.0001,100,1,1)"
      ],
      "metadata": {
        "id": "M_ZUaxIN0nBl",
        "colab": {
          "base_uri": "https://localhost:8080/"
        },
        "outputId": "c97bb71a-6894-4385-f6ce-ae294a009f35"
      },
      "execution_count": null,
      "outputs": [
        {
          "output_type": "execute_result",
          "data": {
            "text/plain": [
              "array([484.69657537, 483.49393225, 482.91666354, ..., 346.5692843 ,\n",
              "       346.54467403, 346.51249823])"
            ]
          },
          "metadata": {},
          "execution_count": 84
        }
      ]
    },
    {
      "cell_type": "markdown",
      "source": [
        "The following code block uses your PredictWithRescaling function to create predictions based on `distance` and `speed` with a learning rate of 0.0001 and just 100 iterations. How close does it get to the minimum possible RSS? What if you change this to 200 iterations?"
      ],
      "metadata": {
        "id": "kyLC9W8E1wQu"
      }
    },
    {
      "cell_type": "code",
      "source": [
        "pred=PredictWithRescaling(distance,speed,0.0001,100,1,1)\n",
        "RSS=np.sum((speed-pred)**2)\n",
        "RSS"
      ],
      "metadata": {
        "id": "RXIi0o901oNb",
        "colab": {
          "base_uri": "https://localhost:8080/"
        },
        "outputId": "6e2ac85e-49d4-47dd-c642-9105717a2eb6"
      },
      "execution_count": null,
      "outputs": [
        {
          "output_type": "execute_result",
          "data": {
            "text/plain": [
              "1843541.612895732"
            ]
          },
          "metadata": {},
          "execution_count": 85
        }
      ]
    }
  ]
}