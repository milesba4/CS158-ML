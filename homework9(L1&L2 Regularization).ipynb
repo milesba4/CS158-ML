{
  "nbformat": 4,
  "nbformat_minor": 0,
  "metadata": {
    "colab": {
      "provenance": [],
      "include_colab_link": true
    },
    "kernelspec": {
      "name": "python3",
      "display_name": "Python 3"
    },
    "language_info": {
      "name": "python"
    },
    "gpuClass": "standard"
  },
  "cells": [
    {
      "cell_type": "markdown",
      "metadata": {
        "id": "view-in-github",
        "colab_type": "text"
      },
      "source": [
        "<a href=\"https://colab.research.google.com/github/milesba4/CS158-ML/blob/main/homework9(L1%26L2%20Regularization).ipynb\" target=\"_parent\"><img src=\"https://colab.research.google.com/assets/colab-badge.svg\" alt=\"Open In Colab\"/></a>"
      ]
    },
    {
      "cell_type": "markdown",
      "source": [
        "**Homework 9**\n",
        "\n",
        "We begin with the imports you will need, together with the functions defined in previous assignments. "
      ],
      "metadata": {
        "id": "umOGtyvwIkHc"
      }
    },
    {
      "cell_type": "code",
      "execution_count": null,
      "metadata": {
        "id": "R9hRMTmLP8-m"
      },
      "outputs": [],
      "source": [
        "import numpy as np\n",
        "import pandas as pd\n",
        "import matplotlib.pyplot as plt \n",
        "\n",
        "def TrainTestSplit(X,y,p,seed=1):\n",
        "  '''Splits feature matrix X and target array y into train and test sets\n",
        "  p is the fraction going to train'''\n",
        "  np.random.seed(seed) #controls randomness\n",
        "  size=len(y) \n",
        "  train_size=int(p*size)\n",
        "  train_mask=np.zeros(size,dtype=bool)\n",
        "  train_indices=np.random.choice(size, train_size, replace=False)\n",
        "  train_mask[train_indices]=True \n",
        "  test_mask=~train_mask\n",
        "  X_train=X[train_mask]\n",
        "  X_test=X[test_mask]\n",
        "  y_train=y[train_mask]\n",
        "  y_test=y[test_mask]\n",
        "  return X_train,X_test,y_train,y_test\n",
        "\n",
        "def PolyFeatures(x,d):  #creates new column of old column ^d degree\n",
        "  X=np.zeros((len(x),d+1))\n",
        "  for i in range(d+1):\n",
        "    X[:,i]=x**i\n",
        "  return X\n",
        "\n",
        "def AddOnes(X): #adds column of ones to matrix\n",
        "  return np.concatenate((X,np.ones((len(X),1))),axis=1)\n",
        "\n",
        "class Scaler: \n",
        "  def __init__(self,z):\n",
        "    self.min=np.min(z,axis=0)\n",
        "    self.max=np.max(z,axis=0)\n",
        "\n",
        "  def scale(self,x): #scales column\n",
        "    return (x-self.min)/(self.max-self.min)\n",
        "\n",
        "  def unscale(self,x): # unscales column\n",
        "    return x*(self.max-self.min)+self.min\n",
        "\n",
        "def train(X,y,max_iter,lr): \n",
        "  '''MSE minimization by Gradient Descent'''\n",
        "  X=np.array(X) #Just in case X is a DataFrame\n",
        "  y=np.array(y) #Just in case y is a Series\n",
        "  n=len(X)\n",
        "  coeff=np.ones(X.shape[1]) #Initialize all coeff to be 1 (something to play with?)\n",
        "  for i in range(max_iter):\n",
        "    resid=X@coeff-y\n",
        "    gradient=((X.T)@resid)/n #Lot's of lin alg here. Try to unpack it!\n",
        "    coeff=coeff-lr*gradient #Gradient Descent step.\n",
        "  return coeff\n",
        "\n",
        "def SGD(X,y,epochs,batch_size,lr):\n",
        "  '''Stochastic Gradient Descent'''\n",
        "  X=np.array(X) #Just in case X is a DataFrame\n",
        "  y=np.array(y) #Just in case y is a Series\n",
        "  n=len(X)\n",
        "  coeff=np.ones(X.shape[1]) #Initialize all coeff to be 1 (something to play with?)\n",
        "  indices=np.arange(len(X)) \n",
        "  for i in range(epochs):\n",
        "    np.random.seed(i) #Just so everyone gets the same answer!\n",
        "    np.random.shuffle(indices) #shuffling the batch\n",
        "    X_shuffle=X[indices] \n",
        "    y_shuffle=y[indices] \n",
        "    num_batches=n//batch_size\n",
        "    for j in range(num_batches): \n",
        "      X_batch=X_shuffle[j*batch_size:(j+1)*batch_size]\n",
        "      y_batch=y_shuffle[j*batch_size:(j+1)*batch_size]\n",
        "      resid=X_batch@coeff-y_batch\n",
        "      gradient=((X_batch.T)@resid)/len(X_batch) #Unpack this lin alg!\n",
        "      coeff=coeff-lr*gradient #Gradient Descent step.\n",
        "    if n%batch_size!=0: #Check if there is a smaller leftover batch\n",
        "      X_batch=X_shuffle[num_batches*batch_size:] #last batch\n",
        "      y_batch=y_shuffle[num_batches*batch_size:] #last batch\n",
        "      resid=X_batch@coeff-y_batch\n",
        "      gradient=((X_batch.T)@resid)/len(X_batch) #updating our guess\n",
        "      coeff=coeff-lr*gradient \n",
        "  return coeff\n",
        "\n",
        "def predict(X,coeff): #If X was scaled, then this will return scaled predictions\n",
        "  return X@coeff\n",
        "\n",
        "def MSE(pred,y):\n",
        "  return np.sum((pred-y)**2)/len(y)"
      ]
    },
    {
      "cell_type": "markdown",
      "source": [
        "In this assignment you will modify the SGD function to allow for L1 (Lasso) and L2 (Ridge) regularization. "
      ],
      "metadata": {
        "id": "8DVpCwzDc-Mg"
      }
    },
    {
      "cell_type": "code",
      "source": [
        "def SGD(X,y,epochs,batch_size,lr,alpha=0,beta=0):\n",
        "  '''Stochastic Gradient Descent With L1 and L2 regularization'''\n",
        "  #alpha=amount of L1 (Lasso) regularization\n",
        "  #beta=amount of L2 (Ridge) regularization\n",
        "  X=np.array(X) #Just in case X is a DataFrame\n",
        "  y=np.array(y) #Just in case y is a Series\n",
        "  n=len(X)\n",
        "  coeff=np.ones(X.shape[1]) #Initialize all coeff to be 1 (something to play with?)\n",
        "  indices=np.arange(len(X))\n",
        "  for i in range(epochs):\n",
        "    np.random.seed(i) #Just so everyone gets the same answer!\n",
        "    np.random.shuffle(indices)\n",
        "    X_shuffle=X[indices] \n",
        "    y_shuffle=y[indices] \n",
        "    num_batches=n//batch_size\n",
        "    for j in range(num_batches):\n",
        "      X_batch=X_shuffle[j*batch_size:(j+1)*batch_size]\n",
        "      y_batch=y_shuffle[j*batch_size:(j+1)*batch_size]\n",
        "      resid=X_batch@coeff-y_batch\n",
        "      gradient=lr* ((X_batch.T)@resid)/len(X_batch) + (beta * coeff) + (alpha * np.sign(coeff)) #modify this line\n",
        "      coeff=coeff-gradient #Gradient Descent step.\n",
        "    if n%batch_size!=0: #Check if there is a smaller leftover batch\n",
        "      X_batch=X_shuffle[num_batches*batch_size:] #last batch\n",
        "      y_batch=y_shuffle[num_batches*batch_size:] #last batch\n",
        "      resid=X_batch@coeff-y_batch\n",
        "      gradient=lr* ((X_batch.T)@resid)/len(X_batch) + (beta * coeff) + (alpha * np.sign(coeff)) #modify this line\n",
        "      coeff=coeff-gradient \n",
        "  return coeff"
      ],
      "metadata": {
        "id": "ekb97yA2shYl"
      },
      "execution_count": null,
      "outputs": []
    },
    {
      "cell_type": "markdown",
      "source": [
        "Let's make up some data to play with:"
      ],
      "metadata": {
        "id": "QI90N4jMeaa2"
      }
    },
    {
      "cell_type": "code",
      "source": [
        "np.random.seed(4)\n",
        "x=np.arange(2,15)\n",
        "randoms=np.random.rand(13)\n",
        "y=2*x+3+10*randoms\n",
        "plt.scatter(x,y)"
      ],
      "metadata": {
        "id": "k942TqCneaAl",
        "colab": {
          "base_uri": "https://localhost:8080/",
          "height": 283
        },
        "outputId": "5fad7abf-1faf-4522-e9c8-853883db028d"
      },
      "execution_count": null,
      "outputs": [
        {
          "output_type": "execute_result",
          "data": {
            "text/plain": [
              "<matplotlib.collections.PathCollection at 0x7f932c5acc10>"
            ]
          },
          "metadata": {},
          "execution_count": 42
        },
        {
          "output_type": "display_data",
          "data": {
            "text/plain": [
              "<Figure size 432x288 with 1 Axes>"
            ],
            "image/png": "[encoded data removed]"
          },
          "metadata": {
            "needs_background": "light"
          }
        }
      ]
    },
    {
      "cell_type": "markdown",
      "source": [
        "Now let's do a train/test split and fit an 8th degree polynomial model to the train set via SGD. "
      ],
      "metadata": {
        "id": "qeS4RVNkZxsV"
      }
    },
    {
      "cell_type": "code",
      "source": [
        "x_train,x_test,y_train,y_test=TrainTestSplit(x,y,0.75)\n",
        "xscaler=Scaler(x_train)\n",
        "yscaler=Scaler(y_train)\n",
        "x_train_scaled=xscaler.scale(x_train)\n",
        "X_train_scaled=PolyFeatures(x_train_scaled,8)\n",
        "y_train_scaled=yscaler.scale(y_train)\n",
        "coeff=SGD(X_train_scaled,y_train_scaled,100000,13,0.1)\n",
        "pred_scaled=predict(X_train_scaled,coeff) #Generate predictions for the training set\n",
        "pred=yscaler.unscale(pred_scaled) \n",
        "MSE(pred,y_train) #MSE for the training set. Should be very low!!\n"
      ],
      "metadata": {
        "id": "fDaT_OcUfUt3",
        "colab": {
          "base_uri": "https://localhost:8080/"
        },
        "outputId": "11305866-08cb-482f-d97d-2ebda77d5062"
      },
      "execution_count": null,
      "outputs": [
        {
          "output_type": "execute_result",
          "data": {
            "text/plain": [
              "6.233082171506723"
            ]
          },
          "metadata": {},
          "execution_count": 43
        }
      ]
    },
    {
      "cell_type": "markdown",
      "source": [
        "To see the overfitting, let's run predictions on lots of values of x. "
      ],
      "metadata": {
        "id": "50joKkzDVo-_"
      }
    },
    {
      "cell_type": "code",
      "source": [
        "x_plot=np.arange(2,15,.01) # 1,300 values of x between 2 and 15\n",
        "x_plot_scaled=xscaler.scale(x_plot)\n",
        "X_plot_scaled=PolyFeatures(x_plot_scaled,8)\n",
        "plot_pred_scaled=predict(X_plot_scaled,coeff) #Generate predictions for plotting\n",
        "plot_pred=yscaler.unscale(plot_pred_scaled) \n",
        "plt.scatter(x_train,y_train) #plot train set\n",
        "plt.scatter(x_test,y_test,color='r') #plot test set\n",
        "plt.plot(x_plot,plot_pred,'-r') #plot 1300 values and their predictions, and draw smooth curve\n"
      ],
      "metadata": {
        "id": "Ol9-ia7JVoks",
        "colab": {
          "base_uri": "https://localhost:8080/",
          "height": 283
        },
        "outputId": "7979e5e5-afd1-428d-95f5-4691e5aca74e"
      },
      "execution_count": null,
      "outputs": [
        {
          "output_type": "execute_result",
          "data": {
            "text/plain": [
              "[<matplotlib.lines.Line2D at 0x7f932c800850>]"
            ]
          },
          "metadata": {},
          "execution_count": 44
        },
        {
          "output_type": "display_data",
          "data": {
            "text/plain": [
              "<Figure size 432x288 with 1 Axes>"
            ],
            "image/png": "[encoded data removed]"
          },
          "metadata": {
            "needs_background": "light"
          }
        }
      ]
    },
    {
      "cell_type": "markdown",
      "source": [
        "Now we check the MSE for the test set. As you might expect from the overfitting, this is much higher!"
      ],
      "metadata": {
        "id": "KRPt9TsZad9d"
      }
    },
    {
      "cell_type": "code",
      "source": [
        "x_test_scaled=xscaler.scale(x_test)\n",
        "X_test_scaled=PolyFeatures(x_test_scaled,8)\n",
        "pred_scaled=predict(X_test_scaled,coeff) #generate predictions for the test set\n",
        "pred=yscaler.unscale(pred_scaled) \n",
        "MSE(pred,y_test) #MSE for the test set\n"
      ],
      "metadata": {
        "id": "SpiZ6FECjAv0",
        "colab": {
          "base_uri": "https://localhost:8080/"
        },
        "outputId": "8e3426e8-c52d-4e81-b937-d54163ed3e73"
      },
      "execution_count": null,
      "outputs": [
        {
          "output_type": "execute_result",
          "data": {
            "text/plain": [
              "15.662681781473353"
            ]
          },
          "metadata": {},
          "execution_count": 45
        }
      ]
    },
    {
      "cell_type": "markdown",
      "source": [
        "Now let's do it again and add a little L2 regularization by setting beta=0.1 in the SGD function:"
      ],
      "metadata": {
        "id": "93qE4pyGaoAn"
      }
    },
    {
      "cell_type": "code",
      "source": [
        "coeff=SGD(X_train_scaled,y_train_scaled,100000,13,0.1,beta=0.01)\n",
        "pred_scaled=predict(X_test_scaled,coeff) #generate predictions for the test set\n",
        "pred=yscaler.unscale(pred_scaled) \n",
        "MSE_with_L2=MSE(pred,y_test) #MSE for the test set\n",
        "MSE_with_L2"
      ],
      "metadata": {
        "id": "8NdB-bs3j4dV",
        "colab": {
          "base_uri": "https://localhost:8080/"
        },
        "outputId": "3cc7ef42-8f70-4ac4-d945-e7d7f45370bd"
      },
      "execution_count": null,
      "outputs": [
        {
          "output_type": "execute_result",
          "data": {
            "text/plain": [
              "5.158809818036022"
            ]
          },
          "metadata": {},
          "execution_count": 46
        }
      ]
    },
    {
      "cell_type": "markdown",
      "source": [
        "If your SGD function works, the MSE should be about 5. That's much better!!"
      ],
      "metadata": {
        "id": "_hNv9r8qa4bb"
      }
    },
    {
      "cell_type": "markdown",
      "source": [
        "---\n",
        "*Assignment*\n",
        "\n",
        "You will now explore the classic California housing dataset. Import it here:\n"
      ],
      "metadata": {
        "id": "9HpW-goqbVZf"
      }
    },
    {
      "cell_type": "code",
      "source": [
        "from sklearn.datasets import fetch_california_housing\n",
        "ca=fetch_california_housing(as_frame=True).frame\n",
        "ca.head(3)"
      ],
      "metadata": {
        "colab": {
          "base_uri": "https://localhost:8080/",
          "height": 143
        },
        "id": "T3GS1hi0-HFd",
        "outputId": "3182535a-9e87-436a-ac1d-3cb012f92374"
      },
      "execution_count": null,
      "outputs": [
        {
          "output_type": "execute_result",
          "data": {
            "text/plain": [
              "   MedInc  HouseAge  AveRooms  AveBedrms  Population  AveOccup  Latitude  \\\n",
              "0  8.3252      41.0  6.984127   1.023810       322.0  2.555556     37.88   \n",
              "1  8.3014      21.0  6.238137   0.971880      2401.0  2.109842     37.86   \n",
              "2  7.2574      52.0  8.288136   1.073446       496.0  2.802260     37.85   \n",
              "\n",
              "   Longitude  MedHouseVal  \n",
              "0    -122.23        4.526  \n",
              "1    -122.22        3.585  \n",
              "2    -122.24        3.521  "
            ],
            "text/html": [
              "\n",
              "  <div id=\"df-039e088e-d3f9-48db-adb4-b18e2908851f\">\n",
              "    <div class=\"colab-df-container\">\n",
              "      <div>\n",
              "<style scoped>\n",
              "    .dataframe tbody tr th:only-of-type {\n",
              "        vertical-align: middle;\n",
              "    }\n",
              "\n",
              "    .dataframe tbody tr th {\n",
              "        vertical-align: top;\n",
              "    }\n",
              "\n",
              "    .dataframe thead th {\n",
              "        text-align: right;\n",
              "    }\n",
              "</style>\n",
              "<table border=\"1\" class=\"dataframe\">\n",
              "  <thead>\n",
              "    <tr style=\"text-align: right;\">\n",
              "      <th></th>\n",
              "      <th>MedInc</th>\n",
              "      <th>HouseAge</th>\n",
              "      <th>AveRooms</th>\n",
              "      <th>AveBedrms</th>\n",
              "      <th>Population</th>\n",
              "      <th>AveOccup</th>\n",
              "      <th>Latitude</th>\n",
              "      <th>Longitude</th>\n",
              "      <th>MedHouseVal</th>\n",
              "    </tr>\n",
              "  </thead>\n",
              "  <tbody>\n",
              "    <tr>\n",
              "      <th>0</th>\n",
              "      <td>8.3252</td>\n",
              "      <td>41.0</td>\n",
              "      <td>6.984127</td>\n",
              "      <td>1.023810</td>\n",
              "      <td>322.0</td>\n",
              "      <td>2.555556</td>\n",
              "      <td>37.88</td>\n",
              "      <td>-122.23</td>\n",
              "      <td>4.526</td>\n",
              "    </tr>\n",
              "    <tr>\n",
              "      <th>1</th>\n",
              "      <td>8.3014</td>\n",
              "      <td>21.0</td>\n",
              "      <td>6.238137</td>\n",
              "      <td>0.971880</td>\n",
              "      <td>2401.0</td>\n",
              "      <td>2.109842</td>\n",
              "      <td>37.86</td>\n",
              "      <td>-122.22</td>\n",
              "      <td>3.585</td>\n",
              "    </tr>\n",
              "    <tr>\n",
              "      <th>2</th>\n",
              "      <td>7.2574</td>\n",
              "      <td>52.0</td>\n",
              "      <td>8.288136</td>\n",
              "      <td>1.073446</td>\n",
              "      <td>496.0</td>\n",
              "      <td>2.802260</td>\n",
              "      <td>37.85</td>\n",
              "      <td>-122.24</td>\n",
              "      <td>3.521</td>\n",
              "    </tr>\n",
              "  </tbody>\n",
              "</table>\n",
              "</div>\n",
              "      <button class=\"colab-df-convert\" onclick=\"convertToInteractive('df-039e088e-d3f9-48db-adb4-b18e2908851f')\"\n",
              "              title=\"Convert this dataframe to an interactive table.\"\n",
              "              style=\"display:none;\">\n",
              "        \n",
              "  <svg xmlns=\"http://www.w3.org/2000/svg\" height=\"24px\"viewBox=\"0 0 24 24\"\n",
              "       width=\"24px\">\n",
              "    <path d=\"M0 0h24v24H0V0z\" fill=\"none\"/>\n",
              "    <path d=\"M18.56 5.44l.94 2.06.94-2.06 2.06-.94-2.06-.94-.94-2.06-.94 2.06-2.06.94zm-11 1L8.5 8.5l.94-2.06 2.06-.94-2.06-.94L8.5 2.5l-.94 2.06-2.06.94zm10 10l.94 2.06.94-2.06 2.06-.94-2.06-.94-.94-2.06-.94 2.06-2.06.94z\"/><path d=\"M17.41 7.96l-1.37-1.37c-.4-.4-.92-.59-1.43-.59-.52 0-1.04.2-1.43.59L10.3 9.45l-7.72 7.72c-.78.78-.78 2.05 0 2.83L4 21.41c.39.39.9.59 1.41.59.51 0 1.02-.2 1.41-.59l7.78-7.78 2.81-2.81c.8-.78.8-2.07 0-2.86zM5.41 20L4 18.59l7.72-7.72 1.47 1.35L5.41 20z\"/>\n",
              "  </svg>\n",
              "      </button>\n",
              "      \n",
              "  <style>\n",
              "    .colab-df-container {\n",
              "      display:flex;\n",
              "      flex-wrap:wrap;\n",
              "      gap: 12px;\n",
              "    }\n",
              "\n",
              "    .colab-df-convert {\n",
              "      background-color: #E8F0FE;\n",
              "      border: none;\n",
              "      border-radius: 50%;\n",
              "      cursor: pointer;\n",
              "      display: none;\n",
              "      fill: #1967D2;\n",
              "      height: 32px;\n",
              "      padding: 0 0 0 0;\n",
              "      width: 32px;\n",
              "    }\n",
              "\n",
              "    .colab-df-convert:hover {\n",
              "      background-color: #E2EBFA;\n",
              "      box-shadow: 0px 1px 2px rgba(60, 64, 67, 0.3), 0px 1px 3px 1px rgba(60, 64, 67, 0.15);\n",
              "      fill: #174EA6;\n",
              "    }\n",
              "\n",
              "    [theme=dark] .colab-df-convert {\n",
              "      background-color: #3B4455;\n",
              "      fill: #D2E3FC;\n",
              "    }\n",
              "\n",
              "    [theme=dark] .colab-df-convert:hover {\n",
              "      background-color: #434B5C;\n",
              "      box-shadow: 0px 1px 3px 1px rgba(0, 0, 0, 0.15);\n",
              "      filter: drop-shadow(0px 1px 2px rgba(0, 0, 0, 0.3));\n",
              "      fill: #FFFFFF;\n",
              "    }\n",
              "  </style>\n",
              "\n",
              "      <script>\n",
              "        const buttonEl =\n",
              "          document.querySelector('#df-039e088e-d3f9-48db-adb4-b18e2908851f button.colab-df-convert');\n",
              "        buttonEl.style.display =\n",
              "          google.colab.kernel.accessAllowed ? 'block' : 'none';\n",
              "\n",
              "        async function convertToInteractive(key) {\n",
              "          const element = document.querySelector('#df-039e088e-d3f9-48db-adb4-b18e2908851f');\n",
              "          const dataTable =\n",
              "            await google.colab.kernel.invokeFunction('convertToInteractive',\n",
              "                                                     [key], {});\n",
              "          if (!dataTable) return;\n",
              "\n",
              "          const docLinkHtml = 'Like what you see? Visit the ' +\n",
              "            '<a target=\"_blank\" href=https://colab.research.google.com/notebooks/data_table.ipynb>data table notebook</a>'\n",
              "            + ' to learn more about interactive tables.';\n",
              "          element.innerHTML = '';\n",
              "          dataTable['output_type'] = 'display_data';\n",
              "          await google.colab.output.renderOutput(dataTable, element);\n",
              "          const docLink = document.createElement('div');\n",
              "          docLink.innerHTML = docLinkHtml;\n",
              "          element.appendChild(docLink);\n",
              "        }\n",
              "      </script>\n",
              "    </div>\n",
              "  </div>\n",
              "  "
            ]
          },
          "metadata": {},
          "execution_count": 47
        }
      ]
    },
    {
      "cell_type": "code",
      "source": [
        "ca.shape"
      ],
      "metadata": {
        "colab": {
          "base_uri": "https://localhost:8080/"
        },
        "id": "3DGAd-ZySjd1",
        "outputId": "7e6926ed-a5fe-49cd-b82e-e6257f2aa3ed"
      },
      "execution_count": null,
      "outputs": [
        {
          "output_type": "execute_result",
          "data": {
            "text/plain": [
              "(20640, 9)"
            ]
          },
          "metadata": {},
          "execution_count": 48
        }
      ]
    },
    {
      "cell_type": "markdown",
      "source": [
        "Our goal is to find a model which predicts the MedHouseVal variable as accurately as possible. In the process of exploring this question, we will decide which of features are most important for prediction. \n",
        "\n",
        "To start, you'll need to create a feature matrix X containing all of the columns besides MedHouseVal, and a target vector y containing the entries in MedHouseVal."
      ],
      "metadata": {
        "id": "7AcG3J8oE04l"
      }
    },
    {
      "cell_type": "code",
      "source": [
        "X=ca.loc[:,\"MedInc\":\"Longitude\"]\n",
        "y=ca[\"MedHouseVal\"]\n",
        "X\n",
        "y.shape"
      ],
      "metadata": {
        "id": "cwg98MHTFbFP",
        "colab": {
          "base_uri": "https://localhost:8080/"
        },
        "outputId": "b4089bf6-338e-4e15-e542-d32cf4e10f87"
      },
      "execution_count": null,
      "outputs": [
        {
          "output_type": "execute_result",
          "data": {
            "text/plain": [
              "(20640,)"
            ]
          },
          "metadata": {},
          "execution_count": 97
        }
      ]
    },
    {
      "cell_type": "markdown",
      "source": [
        "Now, do the following:\n",
        "1. 80/20 Train-Test split\n",
        "2. Scale the training feature matrix and training target array.\n",
        "3. Add a column of ones.\n",
        "4. Find the coefficients of a linear model using SGD with 1000 epochs, batch sizes of 100, and a learning rate of 0.001. (For now, don't use any regularization.)"
      ],
      "metadata": {
        "id": "i3iclgTlbxPu"
      }
    },
    {
      "cell_type": "code",
      "source": [
        "\n",
        "#80/20 Split\n",
        "X_train,X_test,y_train,y_test=TrainTestSplit(X,y,.8)\n",
        "#Scale training feature matrix and training array\n",
        "X_train_scaler = Scaler(X_train)\n",
        "y_train_scaler = Scaler(y_train)\n",
        "X_train_scaled = X_train_scaler.scale(X_train)\n",
        "y_train_scaled = y_train_scaler.scale(y_train)\n",
        "# Add a column of ones to both scaled training feature matrix \n",
        "X_train_scaled=AddOnes(X_train_scaled)\n",
        "# #Find coefficients using SGD\n",
        "coeff = SGD(X_train_scaled,y_train_scaled,1000,5000,.01)\n",
        "coeff\n"
      ],
      "metadata": {
        "id": "2OzigCJ0SgxL",
        "colab": {
          "base_uri": "https://localhost:8080/"
        },
        "outputId": "5383ee9b-af87-41b6-b439-e6b3d154c405"
      },
      "execution_count": null,
      "outputs": [
        {
          "output_type": "execute_result",
          "data": {
            "text/plain": [
              "array([ 0.98276285,  0.26166802,  0.83956297,  0.87924735,  0.93037938,\n",
              "        0.98988807,  0.21689056,  0.3077933 , -0.34038012])"
            ]
          },
          "metadata": {},
          "execution_count": 98
        }
      ]
    },
    {
      "cell_type": "markdown",
      "source": [
        "Coefficients that are very close to zero indicate that the corresponding columns are an insignificant factor in making predictions with this model. How many coefficients are greater than -0.1 and less than 0.1? \n",
        "\n"
      ],
      "metadata": {
        "id": "wAjf_uiNcZZQ"
      }
    },
    {
      "cell_type": "code",
      "source": [
        "num_small_coeffs_no_regularization= 0"
      ],
      "metadata": {
        "id": "7tsozLpVdJAH"
      },
      "execution_count": null,
      "outputs": []
    },
    {
      "cell_type": "markdown",
      "source": [
        "Calculate the MSE for the test set."
      ],
      "metadata": {
        "id": "GRkBSlvyv2fm"
      }
    },
    {
      "cell_type": "code",
      "source": [
        "\n",
        "#Scaling X test\n",
        "X_test_scaled=X_train_scaler.scale(X_test)\n",
        "X_test_scaled=AddOnes(X_test_scaled)\n",
        "\n",
        "pred_scaled=predict(X_test_scaled,coeff) #generate predictions for the test set\n",
        "pred=y_train_scaler.unscale(pred_scaled) \n",
        "\n",
        "MSE_no_reg=MSE(pred,y_test)\n",
        "MSE_no_reg"
      ],
      "metadata": {
        "id": "uCNqLXD6v4i6",
        "colab": {
          "base_uri": "https://localhost:8080/"
        },
        "outputId": "0e09990c-6135-4a9c-f9f1-f835e9a77f8a"
      },
      "execution_count": null,
      "outputs": [
        {
          "output_type": "execute_result",
          "data": {
            "text/plain": [
              "0.9553311991636879"
            ]
          },
          "metadata": {},
          "execution_count": 99
        }
      ]
    },
    {
      "cell_type": "markdown",
      "source": [
        "To refine this model more, we can use a little L1 regularization to see which columns are *really* important (feature selection). Find another set of coefficients using SGD with the same number of epochs, batch size, and learning rate, but this time include a little L1 regularization by lettting alpha=0.1.\n"
      ],
      "metadata": {
        "id": "x7KTku1bdJdy"
      }
    },
    {
      "cell_type": "code",
      "source": [
        "coeff_with_L1= SGD(X_train_scaled,y_train_scaled,1000,5000,0.01, 0.0001) #Added\n",
        "coeff_with_L1\n",
        "\n",
        "# Indexes = np.where((coeff_with_L1 > -.1) and (coeff_with_L1 < .1))"
      ],
      "metadata": {
        "id": "wDFyPlFpzQ_G",
        "colab": {
          "base_uri": "https://localhost:8080/"
        },
        "outputId": "7067502e-b4a2-4c96-d821-089e69d067e6"
      },
      "execution_count": null,
      "outputs": [
        {
          "output_type": "execute_result",
          "data": {
            "text/plain": [
              "array([7.24640766e-01, 1.35320976e-01, 4.79927050e-01, 5.00643343e-01,\n",
              "       5.38273151e-01, 5.91555638e-01, 4.74960556e-05, 1.66245518e-02,\n",
              "       4.83868124e-02])"
            ]
          },
          "metadata": {},
          "execution_count": 101
        }
      ]
    },
    {
      "cell_type": "markdown",
      "source": [
        "Now how many coefficients are now insignificant? "
      ],
      "metadata": {
        "id": "ioeG-E8tdbv0"
      }
    },
    {
      "cell_type": "code",
      "source": [
        "num_small_coeffs_with_regularization=3"
      ],
      "metadata": {
        "id": "0lgez-hMda5K"
      },
      "execution_count": null,
      "outputs": []
    },
    {
      "cell_type": "markdown",
      "source": [
        "Which columns of the original ca DataFrame do these correspond to? (Ignore the added column of ones, if that turns out to be insignificant.)"
      ],
      "metadata": {
        "id": "mkErXWuOygYE"
      }
    },
    {
      "cell_type": "code",
      "source": [
        "insig_columns=ca.columns[[6,7]] #Insert indices of \"insignificant\" columns\n",
        "insig_columns"
      ],
      "metadata": {
        "id": "E09McJlvfQhM",
        "colab": {
          "base_uri": "https://localhost:8080/"
        },
        "outputId": "3ac98aa7-d710-4448-e882-32f7f50a885c"
      },
      "execution_count": null,
      "outputs": [
        {
          "output_type": "execute_result",
          "data": {
            "text/plain": [
              "Index(['Latitude', 'Longitude'], dtype='object')"
            ]
          },
          "metadata": {},
          "execution_count": 106
        }
      ]
    },
    {
      "cell_type": "markdown",
      "source": [
        "Now, do the following: \n",
        "1. Drop the \"insignificant\" columns from the ca dataframe.\n",
        "2. Do a new train-test split.\n",
        "3. Scale the training feature matrix and training target (you'll need to define new Scaler objects).\n",
        "4. Add a column of ones, *only if you found that column to be significant for prediction!*\n",
        "5. Create a linear model with the same epochs, batch size, and learning rate as before (no regularization).\n",
        "6. Determine the MSE on the test set. \n",
        "\n",
        "You should find the MSE is about the same as before, indicating that the dropped columns really were unimportant for prediction. "
      ],
      "metadata": {
        "id": "xwPgsqBGu9RV"
      }
    },
    {
      "cell_type": "code",
      "source": [
        "#Drop the \"insignificant\" columns from the ca dataframe.\n",
        "ca_new=ca.drop([\"Latitude\", \"Longitude\", \"MedHouseVal\"], axis=1)\n",
        "#80/20 Split\n",
        "X_train_new,X_test_new,y_train_new,y_test_new=TrainTestSplit(ca_new,y,.8)\n",
        "#Scale training feature matrix and training array\n",
        "X_train_scaler_new = Scaler(X_train_new)\n",
        "y_train_scaler_new = Scaler(y_train_new)\n",
        "X_train_scaled_new = X_train_scaler_new.scale(X_train_new)\n",
        "y_train_scaled_new = y_train_scaler_new.scale(y_train_new)\n",
        "\n",
        "\n",
        "\n",
        "#Create a linear model with the same epochs, batch size, and learning rate as before (no regularization)\n",
        "new_coeff =  SGD(X_train_scaled_new,y_train_scaled_new,1000,5000,0.01)\n",
        "\n",
        "\n",
        "#Scaling X test\n",
        "X_test_scaled_new=X_train_scaler_new.scale(X_test_new)\n",
        "\n",
        "\n",
        "\n",
        "pred_scaled_new=predict(X_test_scaled_new, new_coeff) #generate predictions for the test set\n",
        "pred_new=y_train_scaler_new.unscale(pred_scaled_new) \n",
        "\n",
        "\n",
        "\n",
        "new_MSE=MSE(pred_new,y_test_new)\n",
        "new_MSE"
      ],
      "metadata": {
        "id": "8eMQHiRWxA-1",
        "colab": {
          "base_uri": "https://localhost:8080/"
        },
        "outputId": "8bbb672c-e160-4902-8878-6eeae1847f81"
      },
      "execution_count": null,
      "outputs": [
        {
          "output_type": "execute_result",
          "data": {
            "text/plain": [
              "0.9015159356590743"
            ]
          },
          "metadata": {},
          "execution_count": 117
        }
      ]
    },
    {
      "cell_type": "code",
      "source": [],
      "metadata": {
        "id": "H78sOPKzaEOQ"
      },
      "execution_count": null,
      "outputs": []
    }
  ]
}